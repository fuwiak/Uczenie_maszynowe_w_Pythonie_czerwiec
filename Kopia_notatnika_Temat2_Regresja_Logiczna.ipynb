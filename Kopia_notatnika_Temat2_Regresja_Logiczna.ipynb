{
  "nbformat": 4,
  "nbformat_minor": 0,
  "metadata": {
    "celltoolbar": "Slideshow",
    "kernelspec": {
      "display_name": "Python 3",
      "language": "python",
      "name": "python3"
    },
    "language_info": {
      "codemirror_mode": {
        "name": "ipython",
        "version": 3
      },
      "file_extension": ".py",
      "mimetype": "text/x-python",
      "name": "python",
      "nbconvert_exporter": "python",
      "pygments_lexer": "ipython3",
      "version": "3.7.7"
    },
    "toc": {
      "base_numbering": 1,
      "nav_menu": {},
      "number_sections": true,
      "sideBar": true,
      "skip_h1_title": false,
      "title_cell": "Table of Contents",
      "title_sidebar": "Contents",
      "toc_cell": true,
      "toc_position": {},
      "toc_section_display": true,
      "toc_window_display": false
    },
    "colab": {
      "name": "Kopia notatnika Temat2_Regresja_Logiczna.ipynb",
      "provenance": [],
      "collapsed_sections": []
    }
  },
  "cells": [
    {
      "cell_type": "markdown",
      "metadata": {
        "id": "1-oxpGbi6nz8"
      },
      "source": [
        "# Regresja logistyczna\n",
        "\n",
        "Regresja logistyczna jest algorytmem klasyfikacji uczenia maszynowego, który jest używany do przewidywania prawdopodobieństwa kategorycznej zmiennej zależnej. W regresji logistycznej, zmienna zależna jest zmienną binarną, która zawiera dane zakodowane jako 1 (tak, sukces, itp.) lub 0 (nie, porażka, itp.). Innymi słowy, model regresji logistycznej przewiduje P(Y=1) jako funkcję X.\n",
        "\n",
        "Skoro w nazwie jest słowo regresja, to czemu ten model jest jednak algorytmem klasyfikacji? Regresja sama w sobie przewiduje prawdopodobieństwo przynależności do danej klasy, co samo w samo jest problemem regresji. Natomiast to prawdopodobienstwo jest zamieniane od pewnego progu np p>-0.5 dla klasę 1, oraz 0 w przeciwnym wypadku.\n",
        "\n"
      ]
    },
    {
      "cell_type": "markdown",
      "metadata": {
        "id": "J4vVu5vc6nz-"
      },
      "source": [
        "## Ważne informacje\n",
        "\n",
        "- Używamy regresji logistycznej, aby wytrenować model do przewidywania między 2 klasami: Yes/No, Black/White, True/False. \n",
        "- Żadna zmienna zależna(**y**) nie powinna znajdować się wśród zestawu cech(**X**). Należy zbadać korelację pomiędzy cechami oddzielnie.\n",
        "- Dane wejściowe(**X**) zostaną poddane normalizacji i standaryzacji.\n",
        "Wyjściem regresji logistycznej jest zawsze log prawdopodobieństwa. \n"
      ]
    },
    {
      "cell_type": "code",
      "metadata": {
        "id": "ZkDQaA2_6n0A"
      },
      "source": [
        "import pandas as pd\n",
        "import matplotlib.pyplot as plt\n",
        "import numpy as np\n",
        "import seaborn as sns\n",
        "import statsmodels.api as sm\n",
        "\n",
        "from sklearn import metrics\n",
        "from sklearn.preprocessing import OneHotEncoder, LabelEncoder, LabelBinarizer\n",
        "from sklearn.pipeline import make_pipeline\n",
        "from sklearn_pandas import DataFrameMapper\n",
        "from sklearn.feature_selection import RFE\n",
        "from sklearn.linear_model import LogisticRegression\n",
        "from sklearn.model_selection import train_test_split\n",
        "from sklearn.metrics import confusion_matrix, classification_report\n",
        "from sklearn.metrics import roc_auc_score, roc_curve, accuracy_score\n",
        "from matplotlib.gridspec import GridSpec\n",
        "\n",
        "from xgboost import XGBClassifier\n",
        "from sklearn.metrics import classification_report,confusion_matrix\n",
        "from sklearn.metrics import precision_score\n",
        "from sklearn.metrics import roc_curve, auc, accuracy_score, recall_score, precision_score\n",
        "\n",
        "from sklearn import model_selection, tree, linear_model, neighbors, naive_bayes, ensemble\n",
        "from xgboost import XGBClassifier\n",
        "from sklearn.ensemble import GradientBoostingClassifier, AdaBoostClassifier\n",
        "\n",
        "from sklearn.preprocessing import StandardScaler\n",
        "from sklearn.feature_selection import RFE\n",
        "from sklearn.linear_model import LogisticRegression\n",
        "import xgboost as xgb\n",
        "from imblearn.over_sampling import SMOTE\n",
        "from sklearn.model_selection import cross_validate\n",
        "\n",
        "import lightgbm as lgb\n",
        "from sklearn.model_selection import train_test_split\n",
        "\n",
        "\n",
        "\n",
        "import numpy.random as npr\n",
        "import scipy.stats as stats\n",
        "\n",
        "# formulat interface to statsmodels (standard linear models)\n",
        "import statsmodels.formula.api as smf\n",
        "\n",
        "from scipy.cluster.vq import vq, kmeans\n",
        "import matplotlib.patches as mpatches\n",
        "from collections import defaultdict\n",
        "\n",
        "from sklearn.decomposition import TruncatedSVD\n",
        "from sklearn.preprocessing import StandardScaler\n",
        "from sklearn.decomposition import PCA\n",
        "\n",
        "from sklearn.model_selection import cross_val_predict\n",
        "from sklearn.metrics import accuracy_score\n",
        "from sklearn.metrics import recall_score\n",
        "from sklearn import preprocessing  # to normalise existing X"
      ],
      "execution_count": null,
      "outputs": []
    },
    {
      "cell_type": "code",
      "metadata": {
        "id": "QuVBSE506n0C",
        "colab": {
          "base_uri": "https://localhost:8080/",
          "height": 206
        },
        "outputId": "96e5b8a1-3600-4811-a1af-3a620dcffa92"
      },
      "source": [
        "#titanic.csv\n",
        "url = \"https://raw.githubusercontent.com/datasciencedojo/datasets/master/titanic.csv\"\n",
        "\n",
        "data = pd.read_csv(url)\n",
        "data.head()"
      ],
      "execution_count": null,
      "outputs": [
        {
          "output_type": "execute_result",
          "data": {
            "text/plain": [
              "   PassengerId  Survived  Pclass  \\\n",
              "0            1         0       3   \n",
              "1            2         1       1   \n",
              "2            3         1       3   \n",
              "3            4         1       1   \n",
              "4            5         0       3   \n",
              "\n",
              "                                                Name     Sex   Age  SibSp  \\\n",
              "0                            Braund, Mr. Owen Harris    male  22.0      1   \n",
              "1  Cumings, Mrs. John Bradley (Florence Briggs Th...  female  38.0      1   \n",
              "2                             Heikkinen, Miss. Laina  female  26.0      0   \n",
              "3       Futrelle, Mrs. Jacques Heath (Lily May Peel)  female  35.0      1   \n",
              "4                           Allen, Mr. William Henry    male  35.0      0   \n",
              "\n",
              "   Parch            Ticket     Fare Cabin Embarked  \n",
              "0      0         A/5 21171   7.2500   NaN        S  \n",
              "1      0          PC 17599  71.2833   C85        C  \n",
              "2      0  STON/O2. 3101282   7.9250   NaN        S  \n",
              "3      0            113803  53.1000  C123        S  \n",
              "4      0            373450   8.0500   NaN        S  "
            ],
            "text/html": [
              "\n",
              "  <div id=\"df-da7cd126-f197-4799-ab50-553517646d55\">\n",
              "    <div class=\"colab-df-container\">\n",
              "      <div>\n",
              "<style scoped>\n",
              "    .dataframe tbody tr th:only-of-type {\n",
              "        vertical-align: middle;\n",
              "    }\n",
              "\n",
              "    .dataframe tbody tr th {\n",
              "        vertical-align: top;\n",
              "    }\n",
              "\n",
              "    .dataframe thead th {\n",
              "        text-align: right;\n",
              "    }\n",
              "</style>\n",
              "<table border=\"1\" class=\"dataframe\">\n",
              "  <thead>\n",
              "    <tr style=\"text-align: right;\">\n",
              "      <th></th>\n",
              "      <th>PassengerId</th>\n",
              "      <th>Survived</th>\n",
              "      <th>Pclass</th>\n",
              "      <th>Name</th>\n",
              "      <th>Sex</th>\n",
              "      <th>Age</th>\n",
              "      <th>SibSp</th>\n",
              "      <th>Parch</th>\n",
              "      <th>Ticket</th>\n",
              "      <th>Fare</th>\n",
              "      <th>Cabin</th>\n",
              "      <th>Embarked</th>\n",
              "    </tr>\n",
              "  </thead>\n",
              "  <tbody>\n",
              "    <tr>\n",
              "      <th>0</th>\n",
              "      <td>1</td>\n",
              "      <td>0</td>\n",
              "      <td>3</td>\n",
              "      <td>Braund, Mr. Owen Harris</td>\n",
              "      <td>male</td>\n",
              "      <td>22.0</td>\n",
              "      <td>1</td>\n",
              "      <td>0</td>\n",
              "      <td>A/5 21171</td>\n",
              "      <td>7.2500</td>\n",
              "      <td>NaN</td>\n",
              "      <td>S</td>\n",
              "    </tr>\n",
              "    <tr>\n",
              "      <th>1</th>\n",
              "      <td>2</td>\n",
              "      <td>1</td>\n",
              "      <td>1</td>\n",
              "      <td>Cumings, Mrs. John Bradley (Florence Briggs Th...</td>\n",
              "      <td>female</td>\n",
              "      <td>38.0</td>\n",
              "      <td>1</td>\n",
              "      <td>0</td>\n",
              "      <td>PC 17599</td>\n",
              "      <td>71.2833</td>\n",
              "      <td>C85</td>\n",
              "      <td>C</td>\n",
              "    </tr>\n",
              "    <tr>\n",
              "      <th>2</th>\n",
              "      <td>3</td>\n",
              "      <td>1</td>\n",
              "      <td>3</td>\n",
              "      <td>Heikkinen, Miss. Laina</td>\n",
              "      <td>female</td>\n",
              "      <td>26.0</td>\n",
              "      <td>0</td>\n",
              "      <td>0</td>\n",
              "      <td>STON/O2. 3101282</td>\n",
              "      <td>7.9250</td>\n",
              "      <td>NaN</td>\n",
              "      <td>S</td>\n",
              "    </tr>\n",
              "    <tr>\n",
              "      <th>3</th>\n",
              "      <td>4</td>\n",
              "      <td>1</td>\n",
              "      <td>1</td>\n",
              "      <td>Futrelle, Mrs. Jacques Heath (Lily May Peel)</td>\n",
              "      <td>female</td>\n",
              "      <td>35.0</td>\n",
              "      <td>1</td>\n",
              "      <td>0</td>\n",
              "      <td>113803</td>\n",
              "      <td>53.1000</td>\n",
              "      <td>C123</td>\n",
              "      <td>S</td>\n",
              "    </tr>\n",
              "    <tr>\n",
              "      <th>4</th>\n",
              "      <td>5</td>\n",
              "      <td>0</td>\n",
              "      <td>3</td>\n",
              "      <td>Allen, Mr. William Henry</td>\n",
              "      <td>male</td>\n",
              "      <td>35.0</td>\n",
              "      <td>0</td>\n",
              "      <td>0</td>\n",
              "      <td>373450</td>\n",
              "      <td>8.0500</td>\n",
              "      <td>NaN</td>\n",
              "      <td>S</td>\n",
              "    </tr>\n",
              "  </tbody>\n",
              "</table>\n",
              "</div>\n",
              "      <button class=\"colab-df-convert\" onclick=\"convertToInteractive('df-da7cd126-f197-4799-ab50-553517646d55')\"\n",
              "              title=\"Convert this dataframe to an interactive table.\"\n",
              "              style=\"display:none;\">\n",
              "        \n",
              "  <svg xmlns=\"http://www.w3.org/2000/svg\" height=\"24px\"viewBox=\"0 0 24 24\"\n",
              "       width=\"24px\">\n",
              "    <path d=\"M0 0h24v24H0V0z\" fill=\"none\"/>\n",
              "    <path d=\"M18.56 5.44l.94 2.06.94-2.06 2.06-.94-2.06-.94-.94-2.06-.94 2.06-2.06.94zm-11 1L8.5 8.5l.94-2.06 2.06-.94-2.06-.94L8.5 2.5l-.94 2.06-2.06.94zm10 10l.94 2.06.94-2.06 2.06-.94-2.06-.94-.94-2.06-.94 2.06-2.06.94z\"/><path d=\"M17.41 7.96l-1.37-1.37c-.4-.4-.92-.59-1.43-.59-.52 0-1.04.2-1.43.59L10.3 9.45l-7.72 7.72c-.78.78-.78 2.05 0 2.83L4 21.41c.39.39.9.59 1.41.59.51 0 1.02-.2 1.41-.59l7.78-7.78 2.81-2.81c.8-.78.8-2.07 0-2.86zM5.41 20L4 18.59l7.72-7.72 1.47 1.35L5.41 20z\"/>\n",
              "  </svg>\n",
              "      </button>\n",
              "      \n",
              "  <style>\n",
              "    .colab-df-container {\n",
              "      display:flex;\n",
              "      flex-wrap:wrap;\n",
              "      gap: 12px;\n",
              "    }\n",
              "\n",
              "    .colab-df-convert {\n",
              "      background-color: #E8F0FE;\n",
              "      border: none;\n",
              "      border-radius: 50%;\n",
              "      cursor: pointer;\n",
              "      display: none;\n",
              "      fill: #1967D2;\n",
              "      height: 32px;\n",
              "      padding: 0 0 0 0;\n",
              "      width: 32px;\n",
              "    }\n",
              "\n",
              "    .colab-df-convert:hover {\n",
              "      background-color: #E2EBFA;\n",
              "      box-shadow: 0px 1px 2px rgba(60, 64, 67, 0.3), 0px 1px 3px 1px rgba(60, 64, 67, 0.15);\n",
              "      fill: #174EA6;\n",
              "    }\n",
              "\n",
              "    [theme=dark] .colab-df-convert {\n",
              "      background-color: #3B4455;\n",
              "      fill: #D2E3FC;\n",
              "    }\n",
              "\n",
              "    [theme=dark] .colab-df-convert:hover {\n",
              "      background-color: #434B5C;\n",
              "      box-shadow: 0px 1px 3px 1px rgba(0, 0, 0, 0.15);\n",
              "      filter: drop-shadow(0px 1px 2px rgba(0, 0, 0, 0.3));\n",
              "      fill: #FFFFFF;\n",
              "    }\n",
              "  </style>\n",
              "\n",
              "      <script>\n",
              "        const buttonEl =\n",
              "          document.querySelector('#df-da7cd126-f197-4799-ab50-553517646d55 button.colab-df-convert');\n",
              "        buttonEl.style.display =\n",
              "          google.colab.kernel.accessAllowed ? 'block' : 'none';\n",
              "\n",
              "        async function convertToInteractive(key) {\n",
              "          const element = document.querySelector('#df-da7cd126-f197-4799-ab50-553517646d55');\n",
              "          const dataTable =\n",
              "            await google.colab.kernel.invokeFunction('convertToInteractive',\n",
              "                                                     [key], {});\n",
              "          if (!dataTable) return;\n",
              "\n",
              "          const docLinkHtml = 'Like what you see? Visit the ' +\n",
              "            '<a target=\"_blank\" href=https://colab.research.google.com/notebooks/data_table.ipynb>data table notebook</a>'\n",
              "            + ' to learn more about interactive tables.';\n",
              "          element.innerHTML = '';\n",
              "          dataTable['output_type'] = 'display_data';\n",
              "          await google.colab.output.renderOutput(dataTable, element);\n",
              "          const docLink = document.createElement('div');\n",
              "          docLink.innerHTML = docLinkHtml;\n",
              "          element.appendChild(docLink);\n",
              "        }\n",
              "      </script>\n",
              "    </div>\n",
              "  </div>\n",
              "  "
            ]
          },
          "metadata": {},
          "execution_count": 198
        }
      ]
    },
    {
      "cell_type": "markdown",
      "source": [
        "# Tworzenie nowych cech"
      ],
      "metadata": {
        "id": "DfIGed7QZCO8"
      }
    },
    {
      "cell_type": "code",
      "source": [
        "#tworzenie zmiennej binarnej"
      ],
      "metadata": {
        "id": "_P8_3B_7ZRaZ"
      },
      "execution_count": null,
      "outputs": []
    },
    {
      "cell_type": "code",
      "source": [
        "data[\"if_child\"] = data['Age'].apply(lambda x: 1 if x<15 else 0) # 1 znaczy dziecko, 0 oznacza dorolsy"
      ],
      "metadata": {
        "id": "pAnSwIw3TzR2"
      },
      "execution_count": null,
      "outputs": []
    },
    {
      "cell_type": "code",
      "source": [
        "data['if_child'].value_counts()"
      ],
      "metadata": {
        "colab": {
          "base_uri": "https://localhost:8080/"
        },
        "id": "ZGjb5PfcURzZ",
        "outputId": "fc999536-d9a6-42a0-8af3-563b0772f297"
      },
      "execution_count": null,
      "outputs": [
        {
          "output_type": "execute_result",
          "data": {
            "text/plain": [
              "0    813\n",
              "1     78\n",
              "Name: if_child, dtype: int64"
            ]
          },
          "metadata": {},
          "execution_count": 201
        }
      ]
    },
    {
      "cell_type": "code",
      "source": [
        "#tworzenie dowolnej liczby klas\n",
        "\n",
        "def separate_age(age):\n",
        "  if age<15:\n",
        "    return \"kid\"\n",
        "  elif age <65:\n",
        "    return \"adult\"\n",
        "  else:\n",
        "    return \"old\"\n",
        "\n",
        "data[\"Age\"].map(separate_age)\n"
      ],
      "metadata": {
        "id": "uTP9G9A9ZY-G",
        "colab": {
          "base_uri": "https://localhost:8080/"
        },
        "outputId": "858eba5f-b374-41d7-97b6-e79ce83bf6a5"
      },
      "execution_count": null,
      "outputs": [
        {
          "output_type": "execute_result",
          "data": {
            "text/plain": [
              "0      adult\n",
              "1      adult\n",
              "2      adult\n",
              "3      adult\n",
              "4      adult\n",
              "       ...  \n",
              "886    adult\n",
              "887    adult\n",
              "888      old\n",
              "889    adult\n",
              "890    adult\n",
              "Name: Age, Length: 891, dtype: object"
            ]
          },
          "metadata": {},
          "execution_count": 202
        }
      ]
    },
    {
      "cell_type": "code",
      "source": [
        "#zmienne można łączyć(nie zawsze sie to udaje, zmienne musza miec ten sam typ)\n",
        "data[\"Ticket\"]+data[\"Embarked\"]\n",
        "\n"
      ],
      "metadata": {
        "colab": {
          "base_uri": "https://localhost:8080/"
        },
        "id": "QjSggOoVaXp1",
        "outputId": "3e6c69ff-8903-4728-c5b9-aff9b1a79b29"
      },
      "execution_count": null,
      "outputs": [
        {
          "output_type": "execute_result",
          "data": {
            "text/plain": [
              "0             A/5 21171S\n",
              "1              PC 17599C\n",
              "2      STON/O2. 3101282S\n",
              "3                113803S\n",
              "4                373450S\n",
              "             ...        \n",
              "886              211536S\n",
              "887              112053S\n",
              "888          W./C. 6607S\n",
              "889              111369C\n",
              "890              370376Q\n",
              "Length: 891, dtype: object"
            ]
          },
          "metadata": {},
          "execution_count": 203
        }
      ]
    },
    {
      "cell_type": "code",
      "source": [
        "#zadanko\n",
        "#stworzyc zmienna family na podstawie zmiennych SibSp\tParch\n",
        "#sprawdzic czy kobiety na statku mialy srednio wiecej czlonkow rodziny niz mezczyzni, mozesz uzyc funkcji groupby"
      ],
      "metadata": {
        "id": "0PFw8cmXbPvW"
      },
      "execution_count": null,
      "outputs": []
    },
    {
      "cell_type": "code",
      "source": [
        "data.groupby(['Pclass', 'Sex', 'if_child', 'Survived']).count()['PassengerId']"
      ],
      "metadata": {
        "colab": {
          "base_uri": "https://localhost:8080/"
        },
        "id": "PMsahiIvSZ8i",
        "outputId": "4284ec18-0417-4fa1-8491-39678d297c3e"
      },
      "execution_count": null,
      "outputs": [
        {
          "output_type": "execute_result",
          "data": {
            "text/plain": [
              "Pclass  Sex     if_child  Survived\n",
              "1       female  0         0             2\n",
              "                          1            90\n",
              "                1         0             1\n",
              "                          1             1\n",
              "        male    0         0            77\n",
              "                          1            42\n",
              "                1         1             3\n",
              "2       female  0         0             6\n",
              "                          1            60\n",
              "                1         1            10\n",
              "        male    0         0            91\n",
              "                          1             8\n",
              "                1         1             9\n",
              "3       female  0         0            58\n",
              "                          1            59\n",
              "                1         0            14\n",
              "                          1            13\n",
              "        male    0         0           282\n",
              "                          1            38\n",
              "                1         0            18\n",
              "                          1             9\n",
              "Name: PassengerId, dtype: int64"
            ]
          },
          "metadata": {},
          "execution_count": 205
        }
      ]
    },
    {
      "cell_type": "markdown",
      "source": [
        "# Opis statystyczny zmiennej"
      ],
      "metadata": {
        "id": "LIJl5BsmcbLY"
      }
    },
    {
      "cell_type": "code",
      "source": [
        "def statistical_description(df, col):\n",
        "\n",
        "  mode, median, mean = df[col].mode()[0], df[col].median(), df[col].mean()\n",
        "  q1, q3, var, std, skew, kur = df[col].quantile(0.25), df[col].quantile(0.75), df[col].var(), df[col].std(), df[col].skew(), df[col].kurtosis()\n",
        "  irq = q3-q1\n",
        "\n",
        "  statistics = [mean,  q1, q3, var, std, skew, kur, irq]\n",
        "  statistics = [round(x,3) for x in statistics]\n",
        "\n",
        "  param = stats.norm.fit(df[col])   # Dopasowanie rozkladu normalnego do danych \n",
        "  x1, x2 =  mean-3*std, mean+3*std\n",
        "  N = len(df[col])\n",
        "  x = np.linspace(x1,x2, N)\n",
        "  pdf_fitted = stats.norm.pdf(x, *param)\n",
        "\n",
        "      \n",
        "  plt.plot(x, pdf_fitted, color='green')\n",
        "  df[col].plot(kind='hist', figsize=(10, 8), linewidth=2 , color='whitesmoke', edgecolor='gray', density=True)\n",
        "  plt.xlabel(str(col), labelpad=15)\n",
        "  plt.ylabel(\"Gęstość\")\n",
        "  plt.title(\"Rozkład zmiennej {}\".format(col), y=1.012, fontsize=22)\n",
        "  measurements = [mode, median, mean, q1, q3, mean-3*std, mean+3*std]\n",
        "  # measurement = [round(x, 3) for x in measurement]\n",
        "\n",
        "\n",
        "\n",
        "\n",
        "  names = [\"mode\", \"median\", \"mean\", \"q1\", \"q3\", \"x-3*std\", \"x+3*std\"]\n",
        "  colors = ['green', 'blue', 'orange', 'blue', 'blue', 'red', 'red']\n",
        "\n",
        "  for measurement, name, color in zip(measurements, names, colors):\n",
        "    plt.axvline(x=measurement, linestyle='--', linewidth=2.5, label='{0} at {1}'.format(name, measurement), c=color)\n",
        "    plt.legend();\n",
        "  plt.show()\n",
        "  print(\"statistics mean={}, q1={}, q3={}, var={}, std={}, skew={}, kurtosis={}, IRQ={}\".format(*statistics))"
      ],
      "metadata": {
        "id": "yz1c_1SncVl5"
      },
      "execution_count": null,
      "outputs": []
    },
    {
      "cell_type": "code",
      "source": [
        "col = 'Survived'\n",
        "\n",
        "\n",
        "statistical_description(data, col)"
      ],
      "metadata": {
        "colab": {
          "base_uri": "https://localhost:8080/",
          "height": 552
        },
        "id": "TfkJ34XadFz4",
        "outputId": "ef51ac11-54b6-4cac-fb70-b9437688d57a"
      },
      "execution_count": null,
      "outputs": [
        {
          "output_type": "display_data",
          "data": {
            "text/plain": [
              "<Figure size 720x576 with 1 Axes>"
            ],
            "image/png": "[encoded data removed]"
          },
          "metadata": {
            "needs_background": "light"
          }
        },
        {
          "output_type": "stream",
          "name": "stdout",
          "text": [
            "statistics mean=0.384, q1=0.0, q3=1.0, var=0.237, std=0.487, skew=0.479, kurtosis=-1.775, IRQ=1.0\n"
          ]
        }
      ]
    },
    {
      "cell_type": "code",
      "source": [
        "statistical_description(data, \"Fare\")"
      ],
      "metadata": {
        "colab": {
          "base_uri": "https://localhost:8080/",
          "height": 552
        },
        "id": "zgyMi6X6dSpf",
        "outputId": "9f71a808-e982-4798-a727-f77a0e8dfca3"
      },
      "execution_count": null,
      "outputs": [
        {
          "output_type": "display_data",
          "data": {
            "text/plain": [
              "<Figure size 720x576 with 1 Axes>"
            ],
            "image/png": "[encoded data removed]"
          },
          "metadata": {
            "needs_background": "light"
          }
        },
        {
          "output_type": "stream",
          "name": "stdout",
          "text": [
            "statistics mean=32.204, q1=7.91, q3=31.0, var=2469.437, std=49.693, skew=4.787, kurtosis=33.398, IRQ=23.09\n"
          ]
        }
      ]
    },
    {
      "cell_type": "markdown",
      "source": [
        "# Transformacje danych"
      ],
      "metadata": {
        "id": "9P-FVL1R7kNJ"
      }
    },
    {
      "cell_type": "code",
      "source": [
        "def normalization(df):\n",
        "\t    normalized = df.apply(lambda x: x/max(x))\n",
        "\t    return normalized\n",
        "\t\n",
        "def standarization(df):\n",
        "    standarized = df.apply(lambda x: (x - x.mean()) /max(x))\n",
        "    return standarized\n",
        "\n",
        "# def logarization(df, col):\n",
        "#   df[col] = np.log2(df[col])\n",
        "#   return df"
      ],
      "metadata": {
        "id": "vXyf1Aor7cdx"
      },
      "execution_count": null,
      "outputs": []
    },
    {
      "cell_type": "code",
      "source": [
        "#zlogarytmuj zmienna \"Fare\" i zobacz jak ona wyglada po transformacji, zastanow sie czemu jest problem z wykonaniem tej operacji\n",
        "\n",
        "# statistical_description(data, \"Fare\")"
      ],
      "metadata": {
        "id": "fj9GBq7a7o0-"
      },
      "execution_count": null,
      "outputs": []
    },
    {
      "cell_type": "markdown",
      "source": [
        ""
      ],
      "metadata": {
        "id": "EFXpukwl7nbV"
      }
    },
    {
      "cell_type": "markdown",
      "source": [
        "# Sprawdzanie zalożen"
      ],
      "metadata": {
        "id": "xrptlJFEdr88"
      }
    },
    {
      "cell_type": "code",
      "source": [
        "def czy_normalny(df, col, alpha):\n",
        "  stat, p  = stats.shapiro(df[col])\n",
        "  if p > alpha:\n",
        "    print('Dane mają rozkład normalny (nie odrzucamy H0)')\n",
        "  else:\n",
        "    print('Dane nie mają rozkładu normalnego')"
      ],
      "metadata": {
        "id": "BjeQRV6XdxHt"
      },
      "execution_count": null,
      "outputs": []
    },
    {
      "cell_type": "code",
      "source": [
        "czy_normalny(data, \"Fare\", 0.05)"
      ],
      "metadata": {
        "colab": {
          "base_uri": "https://localhost:8080/"
        },
        "id": "ISkQIg6IeAj7",
        "outputId": "4f8e9391-4396-4eb0-8ee7-9bc23e7a62c8"
      },
      "execution_count": null,
      "outputs": [
        {
          "output_type": "stream",
          "name": "stdout",
          "text": [
            "Dane nie mają rozkładu normalnego\n"
          ]
        }
      ]
    },
    {
      "cell_type": "code",
      "source": [
        "#zadanie, sprawdz, ktore zmienne ze zmeinnej data maja rozklad normalny, pokazac ich wykres rozkladu wraz z naniesiona moda, mediana, kwartylem 1 i 3"
      ],
      "metadata": {
        "id": "7Zdc-q07m2Uu"
      },
      "execution_count": null,
      "outputs": []
    },
    {
      "cell_type": "markdown",
      "metadata": {
        "id": "9xkjgOZS6n0G"
      },
      "source": [
        "## Informacje o datasecie"
      ]
    },
    {
      "cell_type": "code",
      "source": [
        "data.info()"
      ],
      "metadata": {
        "colab": {
          "base_uri": "https://localhost:8080/"
        },
        "id": "fZNDS9FnRWAS",
        "outputId": "ad159d4a-74c0-4df6-c227-803d9844515d"
      },
      "execution_count": null,
      "outputs": [
        {
          "output_type": "stream",
          "name": "stdout",
          "text": [
            "<class 'pandas.core.frame.DataFrame'>\n",
            "RangeIndex: 891 entries, 0 to 890\n",
            "Data columns (total 13 columns):\n",
            " #   Column       Non-Null Count  Dtype  \n",
            "---  ------       --------------  -----  \n",
            " 0   PassengerId  891 non-null    int64  \n",
            " 1   Survived     891 non-null    int64  \n",
            " 2   Pclass       891 non-null    int64  \n",
            " 3   Name         891 non-null    object \n",
            " 4   Sex          891 non-null    object \n",
            " 5   Age          714 non-null    float64\n",
            " 6   SibSp        891 non-null    int64  \n",
            " 7   Parch        891 non-null    int64  \n",
            " 8   Ticket       891 non-null    object \n",
            " 9   Fare         891 non-null    float64\n",
            " 10  Cabin        204 non-null    object \n",
            " 11  Embarked     889 non-null    object \n",
            " 12  if_child     891 non-null    int64  \n",
            "dtypes: float64(2), int64(6), object(5)\n",
            "memory usage: 90.6+ KB\n"
          ]
        }
      ]
    },
    {
      "cell_type": "code",
      "source": [
        "data.shape"
      ],
      "metadata": {
        "colab": {
          "base_uri": "https://localhost:8080/"
        },
        "id": "DS3T8LzPRcXj",
        "outputId": "a5e1b893-86bd-4717-e2ab-a5435a8c48ca"
      },
      "execution_count": null,
      "outputs": [
        {
          "output_type": "execute_result",
          "data": {
            "text/plain": [
              "(891, 13)"
            ]
          },
          "metadata": {},
          "execution_count": 213
        }
      ]
    },
    {
      "cell_type": "code",
      "metadata": {
        "id": "2yiuQxCi6n0H"
      },
      "source": [
        "def dataframe_metainformation(df):\n",
        "    meta = dict()\n",
        "    descr = pd.DataFrame({'dtype': df.dtypes, 'NAs': df.isna().sum()})\n",
        "    categorical_features = descr.loc[descr['dtype'] == 'object'].index.values.tolist()\n",
        "    numerical_features = descr.loc[descr['dtype'] != 'object'].index.values.tolist()\n",
        "    numerical_features_na = descr.loc[(descr['dtype'] != 'object') & (descr['NAs'] > 0)].index.values.tolist()\n",
        "    categorical_features_na = descr.loc[(descr['dtype'] == 'object') & (descr['NAs'] > 0)].index.values.tolist()\n",
        "    complete_features = descr.loc[descr['NAs'] == 0].index.values.tolist()\n",
        "    meta['description'] = descr\n",
        "    meta['categorical_features'] = categorical_features\n",
        "    meta['categorical_features'] = categorical_features\n",
        "    meta['categorical_features_na'] = categorical_features_na\n",
        "    meta['numerical_features'] = numerical_features\n",
        "    meta['numerical_features_na'] = numerical_features_na\n",
        "    meta['complete_features'] = complete_features\n",
        "    return meta\n",
        "\n",
        "def print_metainformation(meta):\n",
        "    print('Available types:', meta['description']['dtype'].unique())\n",
        "    print('{} Features'.format(meta['description'].shape[0]))\n",
        "    print('{} categorical features'.format(len(meta['categorical_features'])))\n",
        "    print('{} numerical features'.format(len(meta['numerical_features'])))\n",
        "    print('{} categorical features with NAs'.format(len(meta['categorical_features_na'])))\n",
        "    print('{} numerical features with NAs'.format(len(meta['numerical_features_na'])))\n",
        "    print('{} Complete features'.format(len(meta['complete_features'])))"
      ],
      "execution_count": null,
      "outputs": []
    },
    {
      "cell_type": "code",
      "metadata": {
        "id": "saTT0YE76n0H",
        "colab": {
          "base_uri": "https://localhost:8080/"
        },
        "outputId": "751d3ff5-2664-4e24-952a-8e2d63e75b92"
      },
      "source": [
        "meta = dataframe_metainformation(data)\n",
        "print_metainformation(meta)"
      ],
      "execution_count": null,
      "outputs": [
        {
          "output_type": "stream",
          "name": "stdout",
          "text": [
            "Available types: [dtype('int64') dtype('O') dtype('float64')]\n",
            "13 Features\n",
            "5 categorical features\n",
            "8 numerical features\n",
            "2 categorical features with NAs\n",
            "1 numerical features with NAs\n",
            "10 Complete features\n"
          ]
        }
      ]
    },
    {
      "cell_type": "code",
      "source": [
        "def na_handling(df, name_of_strategy,specific_value=\"0\"):\n",
        "  \"\"\"\n",
        "  Uzupełnianie braków w kolumnach wg określonej strategii:\n",
        "  - mean - uzupełnianie braków za pomocą średniej, stosuje się tylko dla danych ilościowych\n",
        "  - mode - uzupełnianie braków za pomocą mody, raczej dla wartości dyskretnych, można stosować dla danych kategorycznych\n",
        "  - 0 - uzupełnianie braków za pomocą 0, stosuje się w przypadku, gdzie wartość 0 ma jasną interpretację.\n",
        "  - specific value - uzywamy w przypadku gdy chcemy użyć jakieś customowej wartości, np 33 lub dwa, ważne żeby wartość była tego samego typu co uzupełniania kolumna.\n",
        "  - next_row, previous_row\n",
        "  \n",
        "  \"\"\"\n",
        "\n",
        "  if name_of_strategy==\"previous_row\":\n",
        "    df.fillna(method=\"backfill\", inplace=True)\n",
        "    return df\n",
        "  elif name_of_strategy==\"next_row\":\n",
        "    df.fillna(method=\"ffill\", inplace=True)\n",
        "    return df\n",
        "  elif name_of_strategy==\"0\":\n",
        "    df.fillna(0, inplace=True)\n",
        "    return df\n",
        "  elif name_of_strategy==\"specific_value\":\n",
        "    df.fillna(spefic_value, inplace=True)\n",
        "    return df\n",
        "  \n",
        "\n",
        "  elif name_of_strategy==\"mean\":\n",
        "    df.fillna(df.mean(), inplace=True)\n",
        "    return df\n",
        "  elif name_of_strategy==\"mode\":\n",
        "    df.fillna(df.mode(dropna=True), inplace=True)\n",
        "    return df\n",
        "  else:\n",
        "    print(\"Wrong specified strategy\")"
      ],
      "metadata": {
        "id": "uIsSQxAeb9Ar"
      },
      "execution_count": null,
      "outputs": []
    },
    {
      "cell_type": "code",
      "metadata": {
        "id": "k42yHp_qJ7Kw"
      },
      "source": [
        "#Uzupelnienie brakow przez mode\n",
        "\n",
        "fill_mode = lambda col: col.fillna(col.mode().iloc[0])\n",
        "data = data.apply(fill_mode, axis=0)"
      ],
      "execution_count": null,
      "outputs": []
    },
    {
      "cell_type": "code",
      "metadata": {
        "colab": {
          "base_uri": "https://localhost:8080/"
        },
        "id": "ZFCkhI6pKbEL",
        "outputId": "58c3ae02-05e6-444a-c7a6-7f9de21b38eb"
      },
      "source": [
        "#Sprawdzamy czy rzeczywiscie uzupelnilismy braki\n",
        "meta = dataframe_metainformation(data)\n",
        "print_metainformation(meta)"
      ],
      "execution_count": null,
      "outputs": [
        {
          "output_type": "stream",
          "name": "stdout",
          "text": [
            "Available types: [dtype('int64') dtype('O') dtype('float64')]\n",
            "13 Features\n",
            "5 categorical features\n",
            "8 numerical features\n",
            "0 categorical features with NAs\n",
            "0 numerical features with NAs\n",
            "13 Complete features\n"
          ]
        }
      ]
    },
    {
      "cell_type": "markdown",
      "metadata": {
        "id": "uzQLgLpp6n0K"
      },
      "source": [
        "Sprawdzamy zbalansowanie zmiennej przewidywanej"
      ]
    },
    {
      "cell_type": "code",
      "metadata": {
        "id": "_sPbIvkB6n0L",
        "colab": {
          "base_uri": "https://localhost:8080/",
          "height": 279
        },
        "outputId": "6b761d74-7685-44cc-88a2-c7e0bec359fc"
      },
      "source": [
        "sns.countplot(x='Survived', data=data);\n",
        "plt.show();"
      ],
      "execution_count": null,
      "outputs": [
        {
          "output_type": "display_data",
          "data": {
            "text/plain": [
              "<Figure size 432x288 with 1 Axes>"
            ],
            "image/png": "[encoded data removed]"
          },
          "metadata": {
            "needs_background": "light"
          }
        }
      ]
    },
    {
      "cell_type": "markdown",
      "source": [
        "# Kodowanie zmiennych"
      ],
      "metadata": {
        "id": "veZZXj4vnQf1"
      }
    },
    {
      "cell_type": "code",
      "source": [
        "#customowe kodowanie\n",
        "data"
      ],
      "metadata": {
        "id": "ci3nkGixVJqR",
        "colab": {
          "base_uri": "https://localhost:8080/",
          "height": 423
        },
        "outputId": "7518f3af-eaa7-4252-9dbd-4793c4ee0eee"
      },
      "execution_count": null,
      "outputs": [
        {
          "output_type": "execute_result",
          "data": {
            "text/plain": [
              "     PassengerId  Survived  Pclass  \\\n",
              "0              1         0       3   \n",
              "1              2         1       1   \n",
              "2              3         1       3   \n",
              "3              4         1       1   \n",
              "4              5         0       3   \n",
              "..           ...       ...     ...   \n",
              "886          887         0       2   \n",
              "887          888         1       1   \n",
              "888          889         0       3   \n",
              "889          890         1       1   \n",
              "890          891         0       3   \n",
              "\n",
              "                                                  Name     Sex   Age  SibSp  \\\n",
              "0                              Braund, Mr. Owen Harris    male  22.0      1   \n",
              "1    Cumings, Mrs. John Bradley (Florence Briggs Th...  female  38.0      1   \n",
              "2                               Heikkinen, Miss. Laina  female  26.0      0   \n",
              "3         Futrelle, Mrs. Jacques Heath (Lily May Peel)  female  35.0      1   \n",
              "4                             Allen, Mr. William Henry    male  35.0      0   \n",
              "..                                                 ...     ...   ...    ...   \n",
              "886                              Montvila, Rev. Juozas    male  27.0      0   \n",
              "887                       Graham, Miss. Margaret Edith  female  19.0      0   \n",
              "888           Johnston, Miss. Catherine Helen \"Carrie\"  female  24.0      1   \n",
              "889                              Behr, Mr. Karl Howell    male  26.0      0   \n",
              "890                                Dooley, Mr. Patrick    male  32.0      0   \n",
              "\n",
              "     Parch            Ticket     Fare    Cabin Embarked  if_child  \n",
              "0        0         A/5 21171   7.2500  B96 B98        S         0  \n",
              "1        0          PC 17599  71.2833      C85        C         0  \n",
              "2        0  STON/O2. 3101282   7.9250  B96 B98        S         0  \n",
              "3        0            113803  53.1000     C123        S         0  \n",
              "4        0            373450   8.0500  B96 B98        S         0  \n",
              "..     ...               ...      ...      ...      ...       ...  \n",
              "886      0            211536  13.0000  B96 B98        S         0  \n",
              "887      0            112053  30.0000      B42        S         0  \n",
              "888      2        W./C. 6607  23.4500  B96 B98        S         0  \n",
              "889      0            111369  30.0000     C148        C         0  \n",
              "890      0            370376   7.7500  B96 B98        Q         0  \n",
              "\n",
              "[891 rows x 13 columns]"
            ],
            "text/html": [
              "\n",
              "  <div id=\"df-9fc76a09-7f06-4db5-8006-b7191de922eb\">\n",
              "    <div class=\"colab-df-container\">\n",
              "      <div>\n",
              "<style scoped>\n",
              "    .dataframe tbody tr th:only-of-type {\n",
              "        vertical-align: middle;\n",
              "    }\n",
              "\n",
              "    .dataframe tbody tr th {\n",
              "        vertical-align: top;\n",
              "    }\n",
              "\n",
              "    .dataframe thead th {\n",
              "        text-align: right;\n",
              "    }\n",
              "</style>\n",
              "<table border=\"1\" class=\"dataframe\">\n",
              "  <thead>\n",
              "    <tr style=\"text-align: right;\">\n",
              "      <th></th>\n",
              "      <th>PassengerId</th>\n",
              "      <th>Survived</th>\n",
              "      <th>Pclass</th>\n",
              "      <th>Name</th>\n",
              "      <th>Sex</th>\n",
              "      <th>Age</th>\n",
              "      <th>SibSp</th>\n",
              "      <th>Parch</th>\n",
              "      <th>Ticket</th>\n",
              "      <th>Fare</th>\n",
              "      <th>Cabin</th>\n",
              "      <th>Embarked</th>\n",
              "      <th>if_child</th>\n",
              "    </tr>\n",
              "  </thead>\n",
              "  <tbody>\n",
              "    <tr>\n",
              "      <th>0</th>\n",
              "      <td>1</td>\n",
              "      <td>0</td>\n",
              "      <td>3</td>\n",
              "      <td>Braund, Mr. Owen Harris</td>\n",
              "      <td>male</td>\n",
              "      <td>22.0</td>\n",
              "      <td>1</td>\n",
              "      <td>0</td>\n",
              "      <td>A/5 21171</td>\n",
              "      <td>7.2500</td>\n",
              "      <td>B96 B98</td>\n",
              "      <td>S</td>\n",
              "      <td>0</td>\n",
              "    </tr>\n",
              "    <tr>\n",
              "      <th>1</th>\n",
              "      <td>2</td>\n",
              "      <td>1</td>\n",
              "      <td>1</td>\n",
              "      <td>Cumings, Mrs. John Bradley (Florence Briggs Th...</td>\n",
              "      <td>female</td>\n",
              "      <td>38.0</td>\n",
              "      <td>1</td>\n",
              "      <td>0</td>\n",
              "      <td>PC 17599</td>\n",
              "      <td>71.2833</td>\n",
              "      <td>C85</td>\n",
              "      <td>C</td>\n",
              "      <td>0</td>\n",
              "    </tr>\n",
              "    <tr>\n",
              "      <th>2</th>\n",
              "      <td>3</td>\n",
              "      <td>1</td>\n",
              "      <td>3</td>\n",
              "      <td>Heikkinen, Miss. Laina</td>\n",
              "      <td>female</td>\n",
              "      <td>26.0</td>\n",
              "      <td>0</td>\n",
              "      <td>0</td>\n",
              "      <td>STON/O2. 3101282</td>\n",
              "      <td>7.9250</td>\n",
              "      <td>B96 B98</td>\n",
              "      <td>S</td>\n",
              "      <td>0</td>\n",
              "    </tr>\n",
              "    <tr>\n",
              "      <th>3</th>\n",
              "      <td>4</td>\n",
              "      <td>1</td>\n",
              "      <td>1</td>\n",
              "      <td>Futrelle, Mrs. Jacques Heath (Lily May Peel)</td>\n",
              "      <td>female</td>\n",
              "      <td>35.0</td>\n",
              "      <td>1</td>\n",
              "      <td>0</td>\n",
              "      <td>113803</td>\n",
              "      <td>53.1000</td>\n",
              "      <td>C123</td>\n",
              "      <td>S</td>\n",
              "      <td>0</td>\n",
              "    </tr>\n",
              "    <tr>\n",
              "      <th>4</th>\n",
              "      <td>5</td>\n",
              "      <td>0</td>\n",
              "      <td>3</td>\n",
              "      <td>Allen, Mr. William Henry</td>\n",
              "      <td>male</td>\n",
              "      <td>35.0</td>\n",
              "      <td>0</td>\n",
              "      <td>0</td>\n",
              "      <td>373450</td>\n",
              "      <td>8.0500</td>\n",
              "      <td>B96 B98</td>\n",
              "      <td>S</td>\n",
              "      <td>0</td>\n",
              "    </tr>\n",
              "    <tr>\n",
              "      <th>...</th>\n",
              "      <td>...</td>\n",
              "      <td>...</td>\n",
              "      <td>...</td>\n",
              "      <td>...</td>\n",
              "      <td>...</td>\n",
              "      <td>...</td>\n",
              "      <td>...</td>\n",
              "      <td>...</td>\n",
              "      <td>...</td>\n",
              "      <td>...</td>\n",
              "      <td>...</td>\n",
              "      <td>...</td>\n",
              "      <td>...</td>\n",
              "    </tr>\n",
              "    <tr>\n",
              "      <th>886</th>\n",
              "      <td>887</td>\n",
              "      <td>0</td>\n",
              "      <td>2</td>\n",
              "      <td>Montvila, Rev. Juozas</td>\n",
              "      <td>male</td>\n",
              "      <td>27.0</td>\n",
              "      <td>0</td>\n",
              "      <td>0</td>\n",
              "      <td>211536</td>\n",
              "      <td>13.0000</td>\n",
              "      <td>B96 B98</td>\n",
              "      <td>S</td>\n",
              "      <td>0</td>\n",
              "    </tr>\n",
              "    <tr>\n",
              "      <th>887</th>\n",
              "      <td>888</td>\n",
              "      <td>1</td>\n",
              "      <td>1</td>\n",
              "      <td>Graham, Miss. Margaret Edith</td>\n",
              "      <td>female</td>\n",
              "      <td>19.0</td>\n",
              "      <td>0</td>\n",
              "      <td>0</td>\n",
              "      <td>112053</td>\n",
              "      <td>30.0000</td>\n",
              "      <td>B42</td>\n",
              "      <td>S</td>\n",
              "      <td>0</td>\n",
              "    </tr>\n",
              "    <tr>\n",
              "      <th>888</th>\n",
              "      <td>889</td>\n",
              "      <td>0</td>\n",
              "      <td>3</td>\n",
              "      <td>Johnston, Miss. Catherine Helen \"Carrie\"</td>\n",
              "      <td>female</td>\n",
              "      <td>24.0</td>\n",
              "      <td>1</td>\n",
              "      <td>2</td>\n",
              "      <td>W./C. 6607</td>\n",
              "      <td>23.4500</td>\n",
              "      <td>B96 B98</td>\n",
              "      <td>S</td>\n",
              "      <td>0</td>\n",
              "    </tr>\n",
              "    <tr>\n",
              "      <th>889</th>\n",
              "      <td>890</td>\n",
              "      <td>1</td>\n",
              "      <td>1</td>\n",
              "      <td>Behr, Mr. Karl Howell</td>\n",
              "      <td>male</td>\n",
              "      <td>26.0</td>\n",
              "      <td>0</td>\n",
              "      <td>0</td>\n",
              "      <td>111369</td>\n",
              "      <td>30.0000</td>\n",
              "      <td>C148</td>\n",
              "      <td>C</td>\n",
              "      <td>0</td>\n",
              "    </tr>\n",
              "    <tr>\n",
              "      <th>890</th>\n",
              "      <td>891</td>\n",
              "      <td>0</td>\n",
              "      <td>3</td>\n",
              "      <td>Dooley, Mr. Patrick</td>\n",
              "      <td>male</td>\n",
              "      <td>32.0</td>\n",
              "      <td>0</td>\n",
              "      <td>0</td>\n",
              "      <td>370376</td>\n",
              "      <td>7.7500</td>\n",
              "      <td>B96 B98</td>\n",
              "      <td>Q</td>\n",
              "      <td>0</td>\n",
              "    </tr>\n",
              "  </tbody>\n",
              "</table>\n",
              "<p>891 rows × 13 columns</p>\n",
              "</div>\n",
              "      <button class=\"colab-df-convert\" onclick=\"convertToInteractive('df-9fc76a09-7f06-4db5-8006-b7191de922eb')\"\n",
              "              title=\"Convert this dataframe to an interactive table.\"\n",
              "              style=\"display:none;\">\n",
              "        \n",
              "  <svg xmlns=\"http://www.w3.org/2000/svg\" height=\"24px\"viewBox=\"0 0 24 24\"\n",
              "       width=\"24px\">\n",
              "    <path d=\"M0 0h24v24H0V0z\" fill=\"none\"/>\n",
              "    <path d=\"M18.56 5.44l.94 2.06.94-2.06 2.06-.94-2.06-.94-.94-2.06-.94 2.06-2.06.94zm-11 1L8.5 8.5l.94-2.06 2.06-.94-2.06-.94L8.5 2.5l-.94 2.06-2.06.94zm10 10l.94 2.06.94-2.06 2.06-.94-2.06-.94-.94-2.06-.94 2.06-2.06.94z\"/><path d=\"M17.41 7.96l-1.37-1.37c-.4-.4-.92-.59-1.43-.59-.52 0-1.04.2-1.43.59L10.3 9.45l-7.72 7.72c-.78.78-.78 2.05 0 2.83L4 21.41c.39.39.9.59 1.41.59.51 0 1.02-.2 1.41-.59l7.78-7.78 2.81-2.81c.8-.78.8-2.07 0-2.86zM5.41 20L4 18.59l7.72-7.72 1.47 1.35L5.41 20z\"/>\n",
              "  </svg>\n",
              "      </button>\n",
              "      \n",
              "  <style>\n",
              "    .colab-df-container {\n",
              "      display:flex;\n",
              "      flex-wrap:wrap;\n",
              "      gap: 12px;\n",
              "    }\n",
              "\n",
              "    .colab-df-convert {\n",
              "      background-color: #E8F0FE;\n",
              "      border: none;\n",
              "      border-radius: 50%;\n",
              "      cursor: pointer;\n",
              "      display: none;\n",
              "      fill: #1967D2;\n",
              "      height: 32px;\n",
              "      padding: 0 0 0 0;\n",
              "      width: 32px;\n",
              "    }\n",
              "\n",
              "    .colab-df-convert:hover {\n",
              "      background-color: #E2EBFA;\n",
              "      box-shadow: 0px 1px 2px rgba(60, 64, 67, 0.3), 0px 1px 3px 1px rgba(60, 64, 67, 0.15);\n",
              "      fill: #174EA6;\n",
              "    }\n",
              "\n",
              "    [theme=dark] .colab-df-convert {\n",
              "      background-color: #3B4455;\n",
              "      fill: #D2E3FC;\n",
              "    }\n",
              "\n",
              "    [theme=dark] .colab-df-convert:hover {\n",
              "      background-color: #434B5C;\n",
              "      box-shadow: 0px 1px 3px 1px rgba(0, 0, 0, 0.15);\n",
              "      filter: drop-shadow(0px 1px 2px rgba(0, 0, 0, 0.3));\n",
              "      fill: #FFFFFF;\n",
              "    }\n",
              "  </style>\n",
              "\n",
              "      <script>\n",
              "        const buttonEl =\n",
              "          document.querySelector('#df-9fc76a09-7f06-4db5-8006-b7191de922eb button.colab-df-convert');\n",
              "        buttonEl.style.display =\n",
              "          google.colab.kernel.accessAllowed ? 'block' : 'none';\n",
              "\n",
              "        async function convertToInteractive(key) {\n",
              "          const element = document.querySelector('#df-9fc76a09-7f06-4db5-8006-b7191de922eb');\n",
              "          const dataTable =\n",
              "            await google.colab.kernel.invokeFunction('convertToInteractive',\n",
              "                                                     [key], {});\n",
              "          if (!dataTable) return;\n",
              "\n",
              "          const docLinkHtml = 'Like what you see? Visit the ' +\n",
              "            '<a target=\"_blank\" href=https://colab.research.google.com/notebooks/data_table.ipynb>data table notebook</a>'\n",
              "            + ' to learn more about interactive tables.';\n",
              "          element.innerHTML = '';\n",
              "          dataTable['output_type'] = 'display_data';\n",
              "          await google.colab.output.renderOutput(dataTable, element);\n",
              "          const docLink = document.createElement('div');\n",
              "          docLink.innerHTML = docLinkHtml;\n",
              "          element.appendChild(docLink);\n",
              "        }\n",
              "      </script>\n",
              "    </div>\n",
              "  </div>\n",
              "  "
            ]
          },
          "metadata": {},
          "execution_count": 220
        }
      ]
    },
    {
      "cell_type": "code",
      "source": [
        "mapping_dict = {\"male\": 11, \"female\": 22}\n",
        "data[\"Sex_enc\"] = data[\"Sex\"].map(mapping_dict)\n"
      ],
      "metadata": {
        "id": "v9DXYoWrneyT"
      },
      "execution_count": null,
      "outputs": []
    },
    {
      "cell_type": "code",
      "source": [
        "data"
      ],
      "metadata": {
        "colab": {
          "base_uri": "https://localhost:8080/",
          "height": 423
        },
        "id": "uiu3qCkSn0mc",
        "outputId": "5b0dd3ff-9e6a-4a83-9354-3d177394c6b8"
      },
      "execution_count": null,
      "outputs": [
        {
          "output_type": "execute_result",
          "data": {
            "text/plain": [
              "     PassengerId  Survived  Pclass  \\\n",
              "0              1         0       3   \n",
              "1              2         1       1   \n",
              "2              3         1       3   \n",
              "3              4         1       1   \n",
              "4              5         0       3   \n",
              "..           ...       ...     ...   \n",
              "886          887         0       2   \n",
              "887          888         1       1   \n",
              "888          889         0       3   \n",
              "889          890         1       1   \n",
              "890          891         0       3   \n",
              "\n",
              "                                                  Name     Sex   Age  SibSp  \\\n",
              "0                              Braund, Mr. Owen Harris    male  22.0      1   \n",
              "1    Cumings, Mrs. John Bradley (Florence Briggs Th...  female  38.0      1   \n",
              "2                               Heikkinen, Miss. Laina  female  26.0      0   \n",
              "3         Futrelle, Mrs. Jacques Heath (Lily May Peel)  female  35.0      1   \n",
              "4                             Allen, Mr. William Henry    male  35.0      0   \n",
              "..                                                 ...     ...   ...    ...   \n",
              "886                              Montvila, Rev. Juozas    male  27.0      0   \n",
              "887                       Graham, Miss. Margaret Edith  female  19.0      0   \n",
              "888           Johnston, Miss. Catherine Helen \"Carrie\"  female  24.0      1   \n",
              "889                              Behr, Mr. Karl Howell    male  26.0      0   \n",
              "890                                Dooley, Mr. Patrick    male  32.0      0   \n",
              "\n",
              "     Parch            Ticket     Fare    Cabin Embarked  if_child  Sex_enc  \n",
              "0        0         A/5 21171   7.2500  B96 B98        S         0       11  \n",
              "1        0          PC 17599  71.2833      C85        C         0       22  \n",
              "2        0  STON/O2. 3101282   7.9250  B96 B98        S         0       22  \n",
              "3        0            113803  53.1000     C123        S         0       22  \n",
              "4        0            373450   8.0500  B96 B98        S         0       11  \n",
              "..     ...               ...      ...      ...      ...       ...      ...  \n",
              "886      0            211536  13.0000  B96 B98        S         0       11  \n",
              "887      0            112053  30.0000      B42        S         0       22  \n",
              "888      2        W./C. 6607  23.4500  B96 B98        S         0       22  \n",
              "889      0            111369  30.0000     C148        C         0       11  \n",
              "890      0            370376   7.7500  B96 B98        Q         0       11  \n",
              "\n",
              "[891 rows x 14 columns]"
            ],
            "text/html": [
              "\n",
              "  <div id=\"df-fa3a10e6-0c8c-474c-9cc3-bedbeade3f3a\">\n",
              "    <div class=\"colab-df-container\">\n",
              "      <div>\n",
              "<style scoped>\n",
              "    .dataframe tbody tr th:only-of-type {\n",
              "        vertical-align: middle;\n",
              "    }\n",
              "\n",
              "    .dataframe tbody tr th {\n",
              "        vertical-align: top;\n",
              "    }\n",
              "\n",
              "    .dataframe thead th {\n",
              "        text-align: right;\n",
              "    }\n",
              "</style>\n",
              "<table border=\"1\" class=\"dataframe\">\n",
              "  <thead>\n",
              "    <tr style=\"text-align: right;\">\n",
              "      <th></th>\n",
              "      <th>PassengerId</th>\n",
              "      <th>Survived</th>\n",
              "      <th>Pclass</th>\n",
              "      <th>Name</th>\n",
              "      <th>Sex</th>\n",
              "      <th>Age</th>\n",
              "      <th>SibSp</th>\n",
              "      <th>Parch</th>\n",
              "      <th>Ticket</th>\n",
              "      <th>Fare</th>\n",
              "      <th>Cabin</th>\n",
              "      <th>Embarked</th>\n",
              "      <th>if_child</th>\n",
              "      <th>Sex_enc</th>\n",
              "    </tr>\n",
              "  </thead>\n",
              "  <tbody>\n",
              "    <tr>\n",
              "      <th>0</th>\n",
              "      <td>1</td>\n",
              "      <td>0</td>\n",
              "      <td>3</td>\n",
              "      <td>Braund, Mr. Owen Harris</td>\n",
              "      <td>male</td>\n",
              "      <td>22.0</td>\n",
              "      <td>1</td>\n",
              "      <td>0</td>\n",
              "      <td>A/5 21171</td>\n",
              "      <td>7.2500</td>\n",
              "      <td>B96 B98</td>\n",
              "      <td>S</td>\n",
              "      <td>0</td>\n",
              "      <td>11</td>\n",
              "    </tr>\n",
              "    <tr>\n",
              "      <th>1</th>\n",
              "      <td>2</td>\n",
              "      <td>1</td>\n",
              "      <td>1</td>\n",
              "      <td>Cumings, Mrs. John Bradley (Florence Briggs Th...</td>\n",
              "      <td>female</td>\n",
              "      <td>38.0</td>\n",
              "      <td>1</td>\n",
              "      <td>0</td>\n",
              "      <td>PC 17599</td>\n",
              "      <td>71.2833</td>\n",
              "      <td>C85</td>\n",
              "      <td>C</td>\n",
              "      <td>0</td>\n",
              "      <td>22</td>\n",
              "    </tr>\n",
              "    <tr>\n",
              "      <th>2</th>\n",
              "      <td>3</td>\n",
              "      <td>1</td>\n",
              "      <td>3</td>\n",
              "      <td>Heikkinen, Miss. Laina</td>\n",
              "      <td>female</td>\n",
              "      <td>26.0</td>\n",
              "      <td>0</td>\n",
              "      <td>0</td>\n",
              "      <td>STON/O2. 3101282</td>\n",
              "      <td>7.9250</td>\n",
              "      <td>B96 B98</td>\n",
              "      <td>S</td>\n",
              "      <td>0</td>\n",
              "      <td>22</td>\n",
              "    </tr>\n",
              "    <tr>\n",
              "      <th>3</th>\n",
              "      <td>4</td>\n",
              "      <td>1</td>\n",
              "      <td>1</td>\n",
              "      <td>Futrelle, Mrs. Jacques Heath (Lily May Peel)</td>\n",
              "      <td>female</td>\n",
              "      <td>35.0</td>\n",
              "      <td>1</td>\n",
              "      <td>0</td>\n",
              "      <td>113803</td>\n",
              "      <td>53.1000</td>\n",
              "      <td>C123</td>\n",
              "      <td>S</td>\n",
              "      <td>0</td>\n",
              "      <td>22</td>\n",
              "    </tr>\n",
              "    <tr>\n",
              "      <th>4</th>\n",
              "      <td>5</td>\n",
              "      <td>0</td>\n",
              "      <td>3</td>\n",
              "      <td>Allen, Mr. William Henry</td>\n",
              "      <td>male</td>\n",
              "      <td>35.0</td>\n",
              "      <td>0</td>\n",
              "      <td>0</td>\n",
              "      <td>373450</td>\n",
              "      <td>8.0500</td>\n",
              "      <td>B96 B98</td>\n",
              "      <td>S</td>\n",
              "      <td>0</td>\n",
              "      <td>11</td>\n",
              "    </tr>\n",
              "    <tr>\n",
              "      <th>...</th>\n",
              "      <td>...</td>\n",
              "      <td>...</td>\n",
              "      <td>...</td>\n",
              "      <td>...</td>\n",
              "      <td>...</td>\n",
              "      <td>...</td>\n",
              "      <td>...</td>\n",
              "      <td>...</td>\n",
              "      <td>...</td>\n",
              "      <td>...</td>\n",
              "      <td>...</td>\n",
              "      <td>...</td>\n",
              "      <td>...</td>\n",
              "      <td>...</td>\n",
              "    </tr>\n",
              "    <tr>\n",
              "      <th>886</th>\n",
              "      <td>887</td>\n",
              "      <td>0</td>\n",
              "      <td>2</td>\n",
              "      <td>Montvila, Rev. Juozas</td>\n",
              "      <td>male</td>\n",
              "      <td>27.0</td>\n",
              "      <td>0</td>\n",
              "      <td>0</td>\n",
              "      <td>211536</td>\n",
              "      <td>13.0000</td>\n",
              "      <td>B96 B98</td>\n",
              "      <td>S</td>\n",
              "      <td>0</td>\n",
              "      <td>11</td>\n",
              "    </tr>\n",
              "    <tr>\n",
              "      <th>887</th>\n",
              "      <td>888</td>\n",
              "      <td>1</td>\n",
              "      <td>1</td>\n",
              "      <td>Graham, Miss. Margaret Edith</td>\n",
              "      <td>female</td>\n",
              "      <td>19.0</td>\n",
              "      <td>0</td>\n",
              "      <td>0</td>\n",
              "      <td>112053</td>\n",
              "      <td>30.0000</td>\n",
              "      <td>B42</td>\n",
              "      <td>S</td>\n",
              "      <td>0</td>\n",
              "      <td>22</td>\n",
              "    </tr>\n",
              "    <tr>\n",
              "      <th>888</th>\n",
              "      <td>889</td>\n",
              "      <td>0</td>\n",
              "      <td>3</td>\n",
              "      <td>Johnston, Miss. Catherine Helen \"Carrie\"</td>\n",
              "      <td>female</td>\n",
              "      <td>24.0</td>\n",
              "      <td>1</td>\n",
              "      <td>2</td>\n",
              "      <td>W./C. 6607</td>\n",
              "      <td>23.4500</td>\n",
              "      <td>B96 B98</td>\n",
              "      <td>S</td>\n",
              "      <td>0</td>\n",
              "      <td>22</td>\n",
              "    </tr>\n",
              "    <tr>\n",
              "      <th>889</th>\n",
              "      <td>890</td>\n",
              "      <td>1</td>\n",
              "      <td>1</td>\n",
              "      <td>Behr, Mr. Karl Howell</td>\n",
              "      <td>male</td>\n",
              "      <td>26.0</td>\n",
              "      <td>0</td>\n",
              "      <td>0</td>\n",
              "      <td>111369</td>\n",
              "      <td>30.0000</td>\n",
              "      <td>C148</td>\n",
              "      <td>C</td>\n",
              "      <td>0</td>\n",
              "      <td>11</td>\n",
              "    </tr>\n",
              "    <tr>\n",
              "      <th>890</th>\n",
              "      <td>891</td>\n",
              "      <td>0</td>\n",
              "      <td>3</td>\n",
              "      <td>Dooley, Mr. Patrick</td>\n",
              "      <td>male</td>\n",
              "      <td>32.0</td>\n",
              "      <td>0</td>\n",
              "      <td>0</td>\n",
              "      <td>370376</td>\n",
              "      <td>7.7500</td>\n",
              "      <td>B96 B98</td>\n",
              "      <td>Q</td>\n",
              "      <td>0</td>\n",
              "      <td>11</td>\n",
              "    </tr>\n",
              "  </tbody>\n",
              "</table>\n",
              "<p>891 rows × 14 columns</p>\n",
              "</div>\n",
              "      <button class=\"colab-df-convert\" onclick=\"convertToInteractive('df-fa3a10e6-0c8c-474c-9cc3-bedbeade3f3a')\"\n",
              "              title=\"Convert this dataframe to an interactive table.\"\n",
              "              style=\"display:none;\">\n",
              "        \n",
              "  <svg xmlns=\"http://www.w3.org/2000/svg\" height=\"24px\"viewBox=\"0 0 24 24\"\n",
              "       width=\"24px\">\n",
              "    <path d=\"M0 0h24v24H0V0z\" fill=\"none\"/>\n",
              "    <path d=\"M18.56 5.44l.94 2.06.94-2.06 2.06-.94-2.06-.94-.94-2.06-.94 2.06-2.06.94zm-11 1L8.5 8.5l.94-2.06 2.06-.94-2.06-.94L8.5 2.5l-.94 2.06-2.06.94zm10 10l.94 2.06.94-2.06 2.06-.94-2.06-.94-.94-2.06-.94 2.06-2.06.94z\"/><path d=\"M17.41 7.96l-1.37-1.37c-.4-.4-.92-.59-1.43-.59-.52 0-1.04.2-1.43.59L10.3 9.45l-7.72 7.72c-.78.78-.78 2.05 0 2.83L4 21.41c.39.39.9.59 1.41.59.51 0 1.02-.2 1.41-.59l7.78-7.78 2.81-2.81c.8-.78.8-2.07 0-2.86zM5.41 20L4 18.59l7.72-7.72 1.47 1.35L5.41 20z\"/>\n",
              "  </svg>\n",
              "      </button>\n",
              "      \n",
              "  <style>\n",
              "    .colab-df-container {\n",
              "      display:flex;\n",
              "      flex-wrap:wrap;\n",
              "      gap: 12px;\n",
              "    }\n",
              "\n",
              "    .colab-df-convert {\n",
              "      background-color: #E8F0FE;\n",
              "      border: none;\n",
              "      border-radius: 50%;\n",
              "      cursor: pointer;\n",
              "      display: none;\n",
              "      fill: #1967D2;\n",
              "      height: 32px;\n",
              "      padding: 0 0 0 0;\n",
              "      width: 32px;\n",
              "    }\n",
              "\n",
              "    .colab-df-convert:hover {\n",
              "      background-color: #E2EBFA;\n",
              "      box-shadow: 0px 1px 2px rgba(60, 64, 67, 0.3), 0px 1px 3px 1px rgba(60, 64, 67, 0.15);\n",
              "      fill: #174EA6;\n",
              "    }\n",
              "\n",
              "    [theme=dark] .colab-df-convert {\n",
              "      background-color: #3B4455;\n",
              "      fill: #D2E3FC;\n",
              "    }\n",
              "\n",
              "    [theme=dark] .colab-df-convert:hover {\n",
              "      background-color: #434B5C;\n",
              "      box-shadow: 0px 1px 3px 1px rgba(0, 0, 0, 0.15);\n",
              "      filter: drop-shadow(0px 1px 2px rgba(0, 0, 0, 0.3));\n",
              "      fill: #FFFFFF;\n",
              "    }\n",
              "  </style>\n",
              "\n",
              "      <script>\n",
              "        const buttonEl =\n",
              "          document.querySelector('#df-fa3a10e6-0c8c-474c-9cc3-bedbeade3f3a button.colab-df-convert');\n",
              "        buttonEl.style.display =\n",
              "          google.colab.kernel.accessAllowed ? 'block' : 'none';\n",
              "\n",
              "        async function convertToInteractive(key) {\n",
              "          const element = document.querySelector('#df-fa3a10e6-0c8c-474c-9cc3-bedbeade3f3a');\n",
              "          const dataTable =\n",
              "            await google.colab.kernel.invokeFunction('convertToInteractive',\n",
              "                                                     [key], {});\n",
              "          if (!dataTable) return;\n",
              "\n",
              "          const docLinkHtml = 'Like what you see? Visit the ' +\n",
              "            '<a target=\"_blank\" href=https://colab.research.google.com/notebooks/data_table.ipynb>data table notebook</a>'\n",
              "            + ' to learn more about interactive tables.';\n",
              "          element.innerHTML = '';\n",
              "          dataTable['output_type'] = 'display_data';\n",
              "          await google.colab.output.renderOutput(dataTable, element);\n",
              "          const docLink = document.createElement('div');\n",
              "          docLink.innerHTML = docLinkHtml;\n",
              "          element.appendChild(docLink);\n",
              "        }\n",
              "      </script>\n",
              "    </div>\n",
              "  </div>\n",
              "  "
            ]
          },
          "metadata": {},
          "execution_count": 222
        }
      ]
    },
    {
      "cell_type": "code",
      "metadata": {
        "id": "EkyrZ2ON6n0N"
      },
      "source": [
        "#kodowanie danych zmiennych kategorycznych - One hot encoding \n",
        "\n",
        "def encode_and_bind(original_dataframe, feature_to_encode):\n",
        "    dummies = pd.get_dummies(original_dataframe[[feature_to_encode]])\n",
        "    res = pd.concat([original_dataframe, dummies], axis=1)\n",
        "    res = res.drop([feature_to_encode], axis=1)\n",
        "    return(res) "
      ],
      "execution_count": null,
      "outputs": []
    },
    {
      "cell_type": "code",
      "metadata": {
        "colab": {
          "base_uri": "https://localhost:8080/",
          "height": 423
        },
        "id": "Xckpms0kJe4N",
        "outputId": "7fa04626-0871-4456-9730-c36d733d45c1"
      },
      "source": [
        "data_enc = encode_and_bind(data, \"Sex\")\n",
        "data_enc"
      ],
      "execution_count": null,
      "outputs": [
        {
          "output_type": "execute_result",
          "data": {
            "text/plain": [
              "     PassengerId  Survived  Pclass  \\\n",
              "0              1         0       3   \n",
              "1              2         1       1   \n",
              "2              3         1       3   \n",
              "3              4         1       1   \n",
              "4              5         0       3   \n",
              "..           ...       ...     ...   \n",
              "886          887         0       2   \n",
              "887          888         1       1   \n",
              "888          889         0       3   \n",
              "889          890         1       1   \n",
              "890          891         0       3   \n",
              "\n",
              "                                                  Name   Age  SibSp  Parch  \\\n",
              "0                              Braund, Mr. Owen Harris  22.0      1      0   \n",
              "1    Cumings, Mrs. John Bradley (Florence Briggs Th...  38.0      1      0   \n",
              "2                               Heikkinen, Miss. Laina  26.0      0      0   \n",
              "3         Futrelle, Mrs. Jacques Heath (Lily May Peel)  35.0      1      0   \n",
              "4                             Allen, Mr. William Henry  35.0      0      0   \n",
              "..                                                 ...   ...    ...    ...   \n",
              "886                              Montvila, Rev. Juozas  27.0      0      0   \n",
              "887                       Graham, Miss. Margaret Edith  19.0      0      0   \n",
              "888           Johnston, Miss. Catherine Helen \"Carrie\"  24.0      1      2   \n",
              "889                              Behr, Mr. Karl Howell  26.0      0      0   \n",
              "890                                Dooley, Mr. Patrick  32.0      0      0   \n",
              "\n",
              "               Ticket     Fare    Cabin Embarked  if_child  Sex_enc  \\\n",
              "0           A/5 21171   7.2500  B96 B98        S         0       11   \n",
              "1            PC 17599  71.2833      C85        C         0       22   \n",
              "2    STON/O2. 3101282   7.9250  B96 B98        S         0       22   \n",
              "3              113803  53.1000     C123        S         0       22   \n",
              "4              373450   8.0500  B96 B98        S         0       11   \n",
              "..                ...      ...      ...      ...       ...      ...   \n",
              "886            211536  13.0000  B96 B98        S         0       11   \n",
              "887            112053  30.0000      B42        S         0       22   \n",
              "888        W./C. 6607  23.4500  B96 B98        S         0       22   \n",
              "889            111369  30.0000     C148        C         0       11   \n",
              "890            370376   7.7500  B96 B98        Q         0       11   \n",
              "\n",
              "     Sex_female  Sex_male  \n",
              "0             0         1  \n",
              "1             1         0  \n",
              "2             1         0  \n",
              "3             1         0  \n",
              "4             0         1  \n",
              "..          ...       ...  \n",
              "886           0         1  \n",
              "887           1         0  \n",
              "888           1         0  \n",
              "889           0         1  \n",
              "890           0         1  \n",
              "\n",
              "[891 rows x 15 columns]"
            ],
            "text/html": [
              "\n",
              "  <div id=\"df-cfa66cdb-7393-477e-8b65-440330324273\">\n",
              "    <div class=\"colab-df-container\">\n",
              "      <div>\n",
              "<style scoped>\n",
              "    .dataframe tbody tr th:only-of-type {\n",
              "        vertical-align: middle;\n",
              "    }\n",
              "\n",
              "    .dataframe tbody tr th {\n",
              "        vertical-align: top;\n",
              "    }\n",
              "\n",
              "    .dataframe thead th {\n",
              "        text-align: right;\n",
              "    }\n",
              "</style>\n",
              "<table border=\"1\" class=\"dataframe\">\n",
              "  <thead>\n",
              "    <tr style=\"text-align: right;\">\n",
              "      <th></th>\n",
              "      <th>PassengerId</th>\n",
              "      <th>Survived</th>\n",
              "      <th>Pclass</th>\n",
              "      <th>Name</th>\n",
              "      <th>Age</th>\n",
              "      <th>SibSp</th>\n",
              "      <th>Parch</th>\n",
              "      <th>Ticket</th>\n",
              "      <th>Fare</th>\n",
              "      <th>Cabin</th>\n",
              "      <th>Embarked</th>\n",
              "      <th>if_child</th>\n",
              "      <th>Sex_enc</th>\n",
              "      <th>Sex_female</th>\n",
              "      <th>Sex_male</th>\n",
              "    </tr>\n",
              "  </thead>\n",
              "  <tbody>\n",
              "    <tr>\n",
              "      <th>0</th>\n",
              "      <td>1</td>\n",
              "      <td>0</td>\n",
              "      <td>3</td>\n",
              "      <td>Braund, Mr. Owen Harris</td>\n",
              "      <td>22.0</td>\n",
              "      <td>1</td>\n",
              "      <td>0</td>\n",
              "      <td>A/5 21171</td>\n",
              "      <td>7.2500</td>\n",
              "      <td>B96 B98</td>\n",
              "      <td>S</td>\n",
              "      <td>0</td>\n",
              "      <td>11</td>\n",
              "      <td>0</td>\n",
              "      <td>1</td>\n",
              "    </tr>\n",
              "    <tr>\n",
              "      <th>1</th>\n",
              "      <td>2</td>\n",
              "      <td>1</td>\n",
              "      <td>1</td>\n",
              "      <td>Cumings, Mrs. John Bradley (Florence Briggs Th...</td>\n",
              "      <td>38.0</td>\n",
              "      <td>1</td>\n",
              "      <td>0</td>\n",
              "      <td>PC 17599</td>\n",
              "      <td>71.2833</td>\n",
              "      <td>C85</td>\n",
              "      <td>C</td>\n",
              "      <td>0</td>\n",
              "      <td>22</td>\n",
              "      <td>1</td>\n",
              "      <td>0</td>\n",
              "    </tr>\n",
              "    <tr>\n",
              "      <th>2</th>\n",
              "      <td>3</td>\n",
              "      <td>1</td>\n",
              "      <td>3</td>\n",
              "      <td>Heikkinen, Miss. Laina</td>\n",
              "      <td>26.0</td>\n",
              "      <td>0</td>\n",
              "      <td>0</td>\n",
              "      <td>STON/O2. 3101282</td>\n",
              "      <td>7.9250</td>\n",
              "      <td>B96 B98</td>\n",
              "      <td>S</td>\n",
              "      <td>0</td>\n",
              "      <td>22</td>\n",
              "      <td>1</td>\n",
              "      <td>0</td>\n",
              "    </tr>\n",
              "    <tr>\n",
              "      <th>3</th>\n",
              "      <td>4</td>\n",
              "      <td>1</td>\n",
              "      <td>1</td>\n",
              "      <td>Futrelle, Mrs. Jacques Heath (Lily May Peel)</td>\n",
              "      <td>35.0</td>\n",
              "      <td>1</td>\n",
              "      <td>0</td>\n",
              "      <td>113803</td>\n",
              "      <td>53.1000</td>\n",
              "      <td>C123</td>\n",
              "      <td>S</td>\n",
              "      <td>0</td>\n",
              "      <td>22</td>\n",
              "      <td>1</td>\n",
              "      <td>0</td>\n",
              "    </tr>\n",
              "    <tr>\n",
              "      <th>4</th>\n",
              "      <td>5</td>\n",
              "      <td>0</td>\n",
              "      <td>3</td>\n",
              "      <td>Allen, Mr. William Henry</td>\n",
              "      <td>35.0</td>\n",
              "      <td>0</td>\n",
              "      <td>0</td>\n",
              "      <td>373450</td>\n",
              "      <td>8.0500</td>\n",
              "      <td>B96 B98</td>\n",
              "      <td>S</td>\n",
              "      <td>0</td>\n",
              "      <td>11</td>\n",
              "      <td>0</td>\n",
              "      <td>1</td>\n",
              "    </tr>\n",
              "    <tr>\n",
              "      <th>...</th>\n",
              "      <td>...</td>\n",
              "      <td>...</td>\n",
              "      <td>...</td>\n",
              "      <td>...</td>\n",
              "      <td>...</td>\n",
              "      <td>...</td>\n",
              "      <td>...</td>\n",
              "      <td>...</td>\n",
              "      <td>...</td>\n",
              "      <td>...</td>\n",
              "      <td>...</td>\n",
              "      <td>...</td>\n",
              "      <td>...</td>\n",
              "      <td>...</td>\n",
              "      <td>...</td>\n",
              "    </tr>\n",
              "    <tr>\n",
              "      <th>886</th>\n",
              "      <td>887</td>\n",
              "      <td>0</td>\n",
              "      <td>2</td>\n",
              "      <td>Montvila, Rev. Juozas</td>\n",
              "      <td>27.0</td>\n",
              "      <td>0</td>\n",
              "      <td>0</td>\n",
              "      <td>211536</td>\n",
              "      <td>13.0000</td>\n",
              "      <td>B96 B98</td>\n",
              "      <td>S</td>\n",
              "      <td>0</td>\n",
              "      <td>11</td>\n",
              "      <td>0</td>\n",
              "      <td>1</td>\n",
              "    </tr>\n",
              "    <tr>\n",
              "      <th>887</th>\n",
              "      <td>888</td>\n",
              "      <td>1</td>\n",
              "      <td>1</td>\n",
              "      <td>Graham, Miss. Margaret Edith</td>\n",
              "      <td>19.0</td>\n",
              "      <td>0</td>\n",
              "      <td>0</td>\n",
              "      <td>112053</td>\n",
              "      <td>30.0000</td>\n",
              "      <td>B42</td>\n",
              "      <td>S</td>\n",
              "      <td>0</td>\n",
              "      <td>22</td>\n",
              "      <td>1</td>\n",
              "      <td>0</td>\n",
              "    </tr>\n",
              "    <tr>\n",
              "      <th>888</th>\n",
              "      <td>889</td>\n",
              "      <td>0</td>\n",
              "      <td>3</td>\n",
              "      <td>Johnston, Miss. Catherine Helen \"Carrie\"</td>\n",
              "      <td>24.0</td>\n",
              "      <td>1</td>\n",
              "      <td>2</td>\n",
              "      <td>W./C. 6607</td>\n",
              "      <td>23.4500</td>\n",
              "      <td>B96 B98</td>\n",
              "      <td>S</td>\n",
              "      <td>0</td>\n",
              "      <td>22</td>\n",
              "      <td>1</td>\n",
              "      <td>0</td>\n",
              "    </tr>\n",
              "    <tr>\n",
              "      <th>889</th>\n",
              "      <td>890</td>\n",
              "      <td>1</td>\n",
              "      <td>1</td>\n",
              "      <td>Behr, Mr. Karl Howell</td>\n",
              "      <td>26.0</td>\n",
              "      <td>0</td>\n",
              "      <td>0</td>\n",
              "      <td>111369</td>\n",
              "      <td>30.0000</td>\n",
              "      <td>C148</td>\n",
              "      <td>C</td>\n",
              "      <td>0</td>\n",
              "      <td>11</td>\n",
              "      <td>0</td>\n",
              "      <td>1</td>\n",
              "    </tr>\n",
              "    <tr>\n",
              "      <th>890</th>\n",
              "      <td>891</td>\n",
              "      <td>0</td>\n",
              "      <td>3</td>\n",
              "      <td>Dooley, Mr. Patrick</td>\n",
              "      <td>32.0</td>\n",
              "      <td>0</td>\n",
              "      <td>0</td>\n",
              "      <td>370376</td>\n",
              "      <td>7.7500</td>\n",
              "      <td>B96 B98</td>\n",
              "      <td>Q</td>\n",
              "      <td>0</td>\n",
              "      <td>11</td>\n",
              "      <td>0</td>\n",
              "      <td>1</td>\n",
              "    </tr>\n",
              "  </tbody>\n",
              "</table>\n",
              "<p>891 rows × 15 columns</p>\n",
              "</div>\n",
              "      <button class=\"colab-df-convert\" onclick=\"convertToInteractive('df-cfa66cdb-7393-477e-8b65-440330324273')\"\n",
              "              title=\"Convert this dataframe to an interactive table.\"\n",
              "              style=\"display:none;\">\n",
              "        \n",
              "  <svg xmlns=\"http://www.w3.org/2000/svg\" height=\"24px\"viewBox=\"0 0 24 24\"\n",
              "       width=\"24px\">\n",
              "    <path d=\"M0 0h24v24H0V0z\" fill=\"none\"/>\n",
              "    <path d=\"M18.56 5.44l.94 2.06.94-2.06 2.06-.94-2.06-.94-.94-2.06-.94 2.06-2.06.94zm-11 1L8.5 8.5l.94-2.06 2.06-.94-2.06-.94L8.5 2.5l-.94 2.06-2.06.94zm10 10l.94 2.06.94-2.06 2.06-.94-2.06-.94-.94-2.06-.94 2.06-2.06.94z\"/><path d=\"M17.41 7.96l-1.37-1.37c-.4-.4-.92-.59-1.43-.59-.52 0-1.04.2-1.43.59L10.3 9.45l-7.72 7.72c-.78.78-.78 2.05 0 2.83L4 21.41c.39.39.9.59 1.41.59.51 0 1.02-.2 1.41-.59l7.78-7.78 2.81-2.81c.8-.78.8-2.07 0-2.86zM5.41 20L4 18.59l7.72-7.72 1.47 1.35L5.41 20z\"/>\n",
              "  </svg>\n",
              "      </button>\n",
              "      \n",
              "  <style>\n",
              "    .colab-df-container {\n",
              "      display:flex;\n",
              "      flex-wrap:wrap;\n",
              "      gap: 12px;\n",
              "    }\n",
              "\n",
              "    .colab-df-convert {\n",
              "      background-color: #E8F0FE;\n",
              "      border: none;\n",
              "      border-radius: 50%;\n",
              "      cursor: pointer;\n",
              "      display: none;\n",
              "      fill: #1967D2;\n",
              "      height: 32px;\n",
              "      padding: 0 0 0 0;\n",
              "      width: 32px;\n",
              "    }\n",
              "\n",
              "    .colab-df-convert:hover {\n",
              "      background-color: #E2EBFA;\n",
              "      box-shadow: 0px 1px 2px rgba(60, 64, 67, 0.3), 0px 1px 3px 1px rgba(60, 64, 67, 0.15);\n",
              "      fill: #174EA6;\n",
              "    }\n",
              "\n",
              "    [theme=dark] .colab-df-convert {\n",
              "      background-color: #3B4455;\n",
              "      fill: #D2E3FC;\n",
              "    }\n",
              "\n",
              "    [theme=dark] .colab-df-convert:hover {\n",
              "      background-color: #434B5C;\n",
              "      box-shadow: 0px 1px 3px 1px rgba(0, 0, 0, 0.15);\n",
              "      filter: drop-shadow(0px 1px 2px rgba(0, 0, 0, 0.3));\n",
              "      fill: #FFFFFF;\n",
              "    }\n",
              "  </style>\n",
              "\n",
              "      <script>\n",
              "        const buttonEl =\n",
              "          document.querySelector('#df-cfa66cdb-7393-477e-8b65-440330324273 button.colab-df-convert');\n",
              "        buttonEl.style.display =\n",
              "          google.colab.kernel.accessAllowed ? 'block' : 'none';\n",
              "\n",
              "        async function convertToInteractive(key) {\n",
              "          const element = document.querySelector('#df-cfa66cdb-7393-477e-8b65-440330324273');\n",
              "          const dataTable =\n",
              "            await google.colab.kernel.invokeFunction('convertToInteractive',\n",
              "                                                     [key], {});\n",
              "          if (!dataTable) return;\n",
              "\n",
              "          const docLinkHtml = 'Like what you see? Visit the ' +\n",
              "            '<a target=\"_blank\" href=https://colab.research.google.com/notebooks/data_table.ipynb>data table notebook</a>'\n",
              "            + ' to learn more about interactive tables.';\n",
              "          element.innerHTML = '';\n",
              "          dataTable['output_type'] = 'display_data';\n",
              "          await google.colab.output.renderOutput(dataTable, element);\n",
              "          const docLink = document.createElement('div');\n",
              "          docLink.innerHTML = docLinkHtml;\n",
              "          element.appendChild(docLink);\n",
              "        }\n",
              "      </script>\n",
              "    </div>\n",
              "  </div>\n",
              "  "
            ]
          },
          "metadata": {},
          "execution_count": 224
        }
      ]
    },
    {
      "cell_type": "code",
      "source": [
        "#uzywanie label encodera, nie zalecane w ogolnosci, pokzauje dla tego pokazac, ze klasa sama w sobie istnieje\n",
        "def encode_to_num_df(df):\n",
        "  from sklearn.preprocessing import LabelEncoder\n",
        "  df = df.apply(LabelEncoder().fit_transform)\n",
        "  return df\n",
        "\n",
        "\n",
        "def decode_label_df(df, le):\n",
        "  df = df.apply(le.inverse_transform)\n",
        "  return df\n",
        "\n",
        "\n",
        "def encode_single_column(df, col_name):\n",
        "  from sklearn.preprocessing import LabelEncoder\n",
        "  le = LabelEncoder()\n",
        "  df[col_name] = le.fit_transform(df[col_name])\n",
        "  return df\n",
        "\n",
        "\n",
        "def decode_single_column(df, col_name, le):\n",
        "  from sklearn.preprocessing import LabelEncoder\n",
        "  le = LabelEncoder()\n",
        "  df[col_name] = le.inverse_transform(df[col_name])\n",
        "  return df\t\n",
        "\n",
        "\n",
        "def encode_to_num_df(col: pd.Series):\n",
        "  \"\"\"\n",
        "  Sample usage:\n",
        "  mapping_encoding = []\n",
        "  for name in X.columns:\n",
        "    df_enc[name], d = encode_to_num_df(X[name])\n",
        "    mapping_encoding.append(d)\n",
        "  \n",
        "  \n",
        "  \"\"\"\n",
        "  from sklearn.preprocessing import LabelEncoder\n",
        "  le = LabelEncoder()\n",
        "  col_enc = le.fit_transform(col)\n",
        "  d = dict(zip(le.transform(le.classes_),le.classes_))\n",
        "  return col_enc, d"
      ],
      "metadata": {
        "id": "6O3P1xlBokKw"
      },
      "execution_count": null,
      "outputs": []
    },
    {
      "cell_type": "code",
      "source": [
        "#zakoduj zmienna Embarked customowym kodowaniem, C ma byc Francja, Q = Nowa Zelandia, S = Anglia(zamiena by bylo bardziej czytelnie)\n",
        "#Mozesz potem przekodowac je na one-hot-encoding"
      ],
      "metadata": {
        "id": "52VaiXvjp4Yl"
      },
      "execution_count": null,
      "outputs": []
    },
    {
      "cell_type": "markdown",
      "metadata": {
        "id": "D6m4ZTq1SPo_"
      },
      "source": [
        "# Selekcja zmiennych"
      ]
    },
    {
      "cell_type": "markdown",
      "metadata": {
        "id": "LapYhmki6n0O"
      },
      "source": [
        "### Recursive Feature Elimination\n",
        "Recursive Feature Elimination (RFE) opiera się na idei wielokrotnego konstruowania modelu i wybierania cechy o najlepszych lub najgorszych wynikach, odkładania jej na bok i powtarzania procesu z pozostałymi cechami. Proces ten jest stosowany do momentu, gdy wszystkie cechy w zbiorze danych zostaną wyczerpane. Celem RFE jest wybór cech poprzez rekurencyjne rozpatrywanie coraz mniejszych zbiorów cech."
      ]
    },
    {
      "cell_type": "code",
      "metadata": {
        "id": "QwKKk1ta6n0O",
        "colab": {
          "base_uri": "https://localhost:8080/"
        },
        "outputId": "3404de2a-b6a8-431c-e430-07e7eb02c315"
      },
      "source": [
        "from sklearn.exceptions import ConvergenceWarning\n",
        "import warnings\n",
        "warnings.filterwarnings(action='ignore', category=ConvergenceWarning)\n",
        "\n",
        "X = data_enc[X_selected]\n",
        "y = data_enc[\"Survived\"]\n",
        "\n",
        "\n",
        "logreg = LogisticRegression(solver='lbfgs', max_iter=250)\n",
        "rfe = RFE(logreg, n_features_to_select=4) \n",
        "rfe = rfe.fit(X, y)\n",
        "\n",
        "selectK_mask=rfe.get_support()\n",
        "K_featnames = np.array(X_selected)[selectK_mask]\n",
        "print(\"Wybrane kolumny\", list(K_featnames))"
      ],
      "execution_count": null,
      "outputs": [
        {
          "output_type": "stream",
          "name": "stdout",
          "text": [
            "Wybrane kolumny ['Pclass', 'SibSp', 'Sex_female', 'Sex_male']\n"
          ]
        }
      ]
    },
    {
      "cell_type": "code",
      "metadata": {
        "id": "uct2xlndM2Rr"
      },
      "source": [
        "\n",
        "#dodaj do wybranych kolumn zmienna Embarked, zakoduj sa kodowaniem one-hot(mozesz uzyc rozwiazania z zadania wczesniej) i sprawdz czy to zmieni wynik RFE\n",
        "#masz jakies wnioski?\n"
      ],
      "execution_count": null,
      "outputs": []
    },
    {
      "cell_type": "code",
      "metadata": {
        "id": "ZdzttL6dRKys"
      },
      "source": [
        "# Używamy pakietu `statmodels`, ponieważ chcemy mieć łatwy dostęp do wszystkich wskaźników statystycznych, do których może prowadzić regresja logistyczna"
      ],
      "execution_count": null,
      "outputs": []
    },
    {
      "cell_type": "code",
      "metadata": {
        "id": "rvW-eMuQ6n0Q",
        "colab": {
          "base_uri": "https://localhost:8080/"
        },
        "outputId": "1d6f98c0-2adb-42d7-faf7-ad34cb8928be"
      },
      "source": [
        "\n",
        "X = data_enc[list(K_featnames)]\n",
        "y = data_enc[\"Survived\"]\n",
        "\n",
        "logit_model=sm.Logit(y, X)\n",
        "result=logit_model.fit(method='bfgs')\n",
        "print(result.summary2())"
      ],
      "execution_count": null,
      "outputs": [
        {
          "output_type": "stream",
          "name": "stdout",
          "text": [
            "Optimization terminated successfully.\n",
            "         Current function value: 0.459774\n",
            "         Iterations: 20\n",
            "         Function evaluations: 21\n",
            "         Gradient evaluations: 21\n",
            "                         Results: Logit\n",
            "=================================================================\n",
            "Model:              Logit            Pseudo R-squared: 0.310     \n",
            "Dependent Variable: Survived         AIC:              827.3182  \n",
            "Date:               2022-06-14 05:30 BIC:              846.4875  \n",
            "No. Observations:   891              Log-Likelihood:   -409.66   \n",
            "Df Model:           3                LL-Null:          -593.33   \n",
            "Df Residuals:       887              LLR p-value:      2.6269e-79\n",
            "Converged:          1.0000           Scale:            1.0000    \n",
            "------------------------------------------------------------------\n",
            "               Coef.   Std.Err.     z     P>|z|    [0.025   0.975]\n",
            "------------------------------------------------------------------\n",
            "Pclass        -0.9389    0.1065  -8.8183  0.0000  -1.1476  -0.7302\n",
            "SibSp         -0.2481    0.0945  -2.6244  0.0087  -0.4334  -0.0628\n",
            "Sex_female     3.4334    0.3054  11.2406  0.0000   2.8347   4.0320\n",
            "Sex_male       0.6903    0.2428   2.8434  0.0045   0.2145   1.1662\n",
            "=================================================================\n",
            "\n"
          ]
        }
      ]
    },
    {
      "cell_type": "markdown",
      "metadata": {
        "id": "c1ZnETjc6n0R"
      },
      "source": [
        "### P-Values and feature selection\n",
        "\n",
        "Usuwamy zmienne p>0.05, jako nieistotne statystycznie\n",
        "\n"
      ]
    },
    {
      "cell_type": "code",
      "metadata": {
        "id": "GT5yfE-y6n0R",
        "colab": {
          "base_uri": "https://localhost:8080/"
        },
        "outputId": "cf507891-c96c-496a-bbeb-46e7639df8fe"
      },
      "source": [
        "to_remove = result.pvalues[result.pvalues > 0.05].index.tolist()\n",
        "X.drop(to_remove, inplace=True, axis=1)\n",
        "\n",
        "logit_model=sm.Logit(y, X)\n",
        "result=logit_model.fit(method='bfgs')\n",
        "print(result.summary2())"
      ],
      "execution_count": null,
      "outputs": [
        {
          "output_type": "stream",
          "name": "stdout",
          "text": [
            "Optimization terminated successfully.\n",
            "         Current function value: 0.459774\n",
            "         Iterations: 20\n",
            "         Function evaluations: 21\n",
            "         Gradient evaluations: 21\n",
            "                         Results: Logit\n",
            "=================================================================\n",
            "Model:              Logit            Pseudo R-squared: 0.310     \n",
            "Dependent Variable: Survived         AIC:              827.3182  \n",
            "Date:               2022-06-14 05:30 BIC:              846.4875  \n",
            "No. Observations:   891              Log-Likelihood:   -409.66   \n",
            "Df Model:           3                LL-Null:          -593.33   \n",
            "Df Residuals:       887              LLR p-value:      2.6269e-79\n",
            "Converged:          1.0000           Scale:            1.0000    \n",
            "------------------------------------------------------------------\n",
            "               Coef.   Std.Err.     z     P>|z|    [0.025   0.975]\n",
            "------------------------------------------------------------------\n",
            "Pclass        -0.9389    0.1065  -8.8183  0.0000  -1.1476  -0.7302\n",
            "SibSp         -0.2481    0.0945  -2.6244  0.0087  -0.4334  -0.0628\n",
            "Sex_female     3.4334    0.3054  11.2406  0.0000   2.8347   4.0320\n",
            "Sex_male       0.6903    0.2428   2.8434  0.0045   0.2145   1.1662\n",
            "=================================================================\n",
            "\n"
          ]
        },
        {
          "output_type": "stream",
          "name": "stderr",
          "text": [
            "/usr/local/lib/python3.7/dist-packages/pandas/core/frame.py:4913: SettingWithCopyWarning: \n",
            "A value is trying to be set on a copy of a slice from a DataFrame\n",
            "\n",
            "See the caveats in the documentation: https://pandas.pydata.org/pandas-docs/stable/user_guide/indexing.html#returning-a-view-versus-a-copy\n",
            "  errors=errors,\n"
          ]
        }
      ]
    },
    {
      "cell_type": "code",
      "metadata": {
        "id": "OXhS67idSFDR"
      },
      "source": [
        "#tak przefiltrowane dane możemy wrzucić do modelu"
      ],
      "execution_count": null,
      "outputs": []
    },
    {
      "cell_type": "code",
      "metadata": {
        "id": "DXgoe2f9WjIK"
      },
      "source": [
        "#logistyczna regresja"
      ],
      "execution_count": null,
      "outputs": []
    },
    {
      "cell_type": "code",
      "metadata": {
        "id": "1uPCZDj66n0U",
        "colab": {
          "base_uri": "https://localhost:8080/"
        },
        "outputId": "34137f84-d3d7-49dc-ed6c-e166f887ff81"
      },
      "source": [
        "X_train, X_test, y_train, y_test = train_test_split(X, y, \n",
        "                                                    test_size=0.3, \n",
        "                                                    random_state=0)\n",
        "logreg = LogisticRegression(solver='lbfgs')\n",
        "logreg.fit(X_train, y_train)\n",
        "\n",
        "y_pred = logreg.predict(X_test)\n",
        "print('Accuracy on test: {:.2f}'.format(logreg.score(X_test, y_test)))\n",
        "print(confusion_matrix(y_test, y_pred))\n",
        "print(classification_report(y_test, y_pred))"
      ],
      "execution_count": null,
      "outputs": [
        {
          "output_type": "stream",
          "name": "stdout",
          "text": [
            "Accuracy on test: 0.79\n",
            "[[144  24]\n",
            " [ 31  69]]\n",
            "              precision    recall  f1-score   support\n",
            "\n",
            "           0       0.82      0.86      0.84       168\n",
            "           1       0.74      0.69      0.72       100\n",
            "\n",
            "    accuracy                           0.79       268\n",
            "   macro avg       0.78      0.77      0.78       268\n",
            "weighted avg       0.79      0.79      0.79       268\n",
            "\n"
          ]
        }
      ]
    },
    {
      "cell_type": "markdown",
      "source": [
        "# Redukcja wymiarow poprzez korelacje"
      ],
      "metadata": {
        "id": "locZ6tKWVtdx"
      }
    },
    {
      "cell_type": "code",
      "source": [
        "def show_heatmap(df, method):\n",
        "  plt.figure(figsize=(12,10))\n",
        "  cor = df.corr(method = method)\n",
        "  sns.heatmap(cor, annot=True)\n",
        "  return cor\n",
        "  plt.show()"
      ],
      "metadata": {
        "id": "y0M9b485WCGU"
      },
      "execution_count": null,
      "outputs": []
    },
    {
      "cell_type": "code",
      "source": [
        "cor = show_heatmap(data,'spearman')\n",
        "target_name = 'Survived'\n",
        "cor_target = abs(cor[target_name])\n",
        "high_corr = cor_target[(cor_target>0.2) & (cor_target!=1) ]\n",
        "high_corr"
      ],
      "metadata": {
        "colab": {
          "base_uri": "https://localhost:8080/",
          "height": 666
        },
        "id": "v7i2Vu_EU1H8",
        "outputId": "2534d807-2623-414b-eaee-7d1dc7b8a7f8"
      },
      "execution_count": null,
      "outputs": [
        {
          "output_type": "execute_result",
          "data": {
            "text/plain": [
              "Pclass     0.339668\n",
              "Fare       0.323736\n",
              "Sex_enc    0.543351\n",
              "Name: Survived, dtype: float64"
            ]
          },
          "metadata": {},
          "execution_count": 238
        },
        {
          "output_type": "display_data",
          "data": {
            "text/plain": [
              "<Figure size 864x720 with 2 Axes>"
            ],
            "image/png": "[encoded data removed]"
          },
          "metadata": {
            "needs_background": "light"
          }
        }
      ]
    },
    {
      "cell_type": "code",
      "source": [
        "cor = show_heatmap(data,'pearson')\n"
      ],
      "metadata": {
        "colab": {
          "base_uri": "https://localhost:8080/",
          "height": 596
        },
        "id": "3bj7N1qHfVDg",
        "outputId": "e1d45a43-642f-4fb8-812b-ce730cb56823"
      },
      "execution_count": null,
      "outputs": [
        {
          "output_type": "display_data",
          "data": {
            "text/plain": [
              "<Figure size 864x720 with 2 Axes>"
            ],
            "image/png": "[encoded data removed]"
          },
          "metadata": {
            "needs_background": "light"
          }
        }
      ]
    },
    {
      "cell_type": "code",
      "source": [
        "#Jesli potrzeba, mozemy usunac zmienne ze zbyt duza korelacja wzajemna\n",
        "def remove_collinear_var(df,threshold=0.9):\n",
        "\t\t\"\"\"Remove Collinear Variables\"\"\"\n",
        "\t\tcorr_matrix = df.corr().abs()\n",
        "\t\tupper = corr_matrix.where(np.triu(np.ones(corr_matrix.shape), k=1).astype(np.bool))\n",
        "\t\tto_drop = [column for column in upper.columns if any(upper[column] > threshold)]\n",
        "\t\tresult = df.drop(columns = to_drop, inplace=True)\n",
        "\t\treturn result\n",
        "\n"
      ],
      "metadata": {
        "id": "VW-z64b8tAl2"
      },
      "execution_count": null,
      "outputs": []
    },
    {
      "cell_type": "markdown",
      "metadata": {
        "id": "J0Zeidof6n0W"
      },
      "source": [
        "### Krzywa ROC\n",
        "\n",
        "Krzywa ROC (receiver operating characteristic) jest kolejnym narzędziem powszechnie stosowanym w przypadku klasyfikatorów binarnych. Linia przerywana przedstawia krzywą ROC czysto losowego klasyfikatora; dobry klasyfikator znajduje się jak najdalej od tej linii (w kierunku lewego górnego rogu)."
      ]
    },
    {
      "cell_type": "code",
      "metadata": {
        "id": "zDL_fABG6n0X"
      },
      "source": [
        "logit_roc_auc = roc_auc_score(y_test, logreg.predict(X_test))\n",
        "fpr, tpr, thresholds = roc_curve(y_test, logreg.predict_proba(X_test)[:,1])"
      ],
      "execution_count": null,
      "outputs": []
    },
    {
      "cell_type": "markdown",
      "metadata": {
        "id": "tkfz1QYK6n0X"
      },
      "source": [
        "Plot the FPR vs. TPR, and the diagonal line representing the null model."
      ]
    },
    {
      "cell_type": "code",
      "metadata": {
        "id": "HglPLts96n0X"
      },
      "source": [
        "def plot_roc(fpr, tpr, logit_roc_auc):\n",
        "    plt.figure()\n",
        "    plt.plot(fpr, tpr, label='Logistic Regression (area = %0.2f)' % logit_roc_auc)\n",
        "    plt.plot([0, 1], [0, 1], 'r--')\n",
        "    plt.xlim([0.0, 1.05])\n",
        "    plt.ylim([0.0, 1.05])\n",
        "    plt.xlabel('False Positive Rate')\n",
        "    plt.ylabel('True Positive Rate')\n",
        "    plt.title('ROC curve')\n",
        "    plt.legend(loc=\"lower right\")\n",
        "    # plt.savefig('Log_ROC')\n",
        "    plt.show();"
      ],
      "execution_count": null,
      "outputs": []
    },
    {
      "cell_type": "code",
      "metadata": {
        "scrolled": true,
        "id": "efHKW2eB6n0Y",
        "colab": {
          "base_uri": "https://localhost:8080/",
          "height": 295
        },
        "outputId": "9ad70fb6-cbc4-4193-e3cd-9e964f3d4b43"
      },
      "source": [
        "plot_roc(fpr, tpr, logit_roc_auc)"
      ],
      "execution_count": null,
      "outputs": [
        {
          "output_type": "display_data",
          "data": {
            "text/plain": [
              "<Figure size 432x288 with 1 Axes>"
            ],
            "image/png": "[encoded data removed]"
          },
          "metadata": {
            "needs_background": "light"
          }
        }
      ]
    },
    {
      "cell_type": "code",
      "source": [
        "cv = 5\n",
        "\n",
        "cv_results = cross_validate(logreg, X, y, cv=cv, scoring='roc_auc')\n",
        "mean_auc = round(np.mean(cv_results['test_score']),2)\n",
        "std_auc = round(np.std(cv_results['test_score']),2)\n",
        "print(\"AUC dla cv={} i {} {}+-{}\".format(cv, logreg.__class__.__name__, mean_auc, 3*std_auc))"
      ],
      "metadata": {
        "colab": {
          "base_uri": "https://localhost:8080/"
        },
        "id": "s4PTyifiXZ8-",
        "outputId": "7cb218a4-0e6b-4900-dfec-fb9e3be5a389"
      },
      "execution_count": null,
      "outputs": [
        {
          "output_type": "stream",
          "name": "stdout",
          "text": [
            "AUC dla cv=5 i LogisticRegression 0.84+-0.03\n"
          ]
        }
      ]
    },
    {
      "cell_type": "markdown",
      "metadata": {
        "id": "SmXm2IpU6n0a"
      },
      "source": [
        "### Explore logit predictions\n",
        "\n",
        "Szukamy optymalnego punktu odciecia"
      ]
    },
    {
      "cell_type": "code",
      "metadata": {
        "id": "moe7GOKm6n0a"
      },
      "source": [
        "pred_proba_df = pd.DataFrame(logreg.predict_proba(X_test))\n",
        "threshold_list = np.arange(0.05, 1.0, 0.05)\n",
        "accuracy_list = np.array([])\n",
        "for threshold in threshold_list:\n",
        "    y_test_pred = pred_proba_df.applymap(lambda prob: 1 if prob > threshold else 0)\n",
        "    test_accuracy = accuracy_score(y_test.values,\n",
        "                                   y_test_pred[1].values.reshape(-1, 1))\n",
        "    accuracy_list = np.append(accuracy_list, test_accuracy)"
      ],
      "execution_count": null,
      "outputs": []
    },
    {
      "cell_type": "code",
      "metadata": {
        "id": "2nfMg4KW6n0b",
        "colab": {
          "base_uri": "https://localhost:8080/",
          "height": 295
        },
        "outputId": "4cce1d33-c5a1-4ac4-b95f-b92ebbba634c"
      },
      "source": [
        "plt.plot(range(accuracy_list.shape[0]), accuracy_list, 'o-', label='Accuracy')\n",
        "plt.title('Accuracy for different threshold values')\n",
        "plt.xlabel('Threshold')\n",
        "plt.ylabel('Accuracy')\n",
        "plt.xticks([i for i in range(1, accuracy_list.shape[0], 2)], \n",
        "           np.round(threshold_list[1::2], 1))\n",
        "plt.grid()\n",
        "plt.show();"
      ],
      "execution_count": null,
      "outputs": [
        {
          "output_type": "display_data",
          "data": {
            "text/plain": [
              "<Figure size 432x288 with 1 Axes>"
            ],
            "image/png": "[encoded data removed]"
          },
          "metadata": {
            "needs_background": "light"
          }
        }
      ]
    },
    {
      "cell_type": "code",
      "metadata": {
        "id": "84yC7GVaZLey"
      },
      "source": [
        "MLA = [logreg, \n",
        "       \n",
        "    ]"
      ],
      "execution_count": null,
      "outputs": []
    },
    {
      "cell_type": "code",
      "metadata": {
        "id": "02ZNfE7sZYdL"
      },
      "source": [
        "def compare_algorithms2df(MLA, X_train, X_test, y_train, y_test, sorted_by_measure='accuracy'):\n",
        "  #show grid with compared results - accuracy, recall, ppv, f1-measure, mcc\n",
        "  \n",
        "  MLA_columns = []\n",
        "  MLA_compare = pd.DataFrame(columns = MLA_columns)\n",
        "\n",
        "\n",
        "  row_index = 0\n",
        "  for alg in MLA:\n",
        "\n",
        "    predicted = alg.fit(X_train, y_train).predict(X_test)\n",
        "    fp, tp, th = roc_curve(y_test, predicted)\n",
        "    MLA_name = alg.__class__.__name__\n",
        "    MLA_compare.loc[row_index,'MLA Name'] = MLA_name\n",
        "    MLA_compare.loc[row_index, 'MLA Train Accuracy'] = round(alg.score(X_train, y_train), 4)\n",
        "    MLA_compare.loc[row_index, 'MLA Test Accuracy'] = round(alg.score(X_test, y_test), 4)\n",
        "    MLA_compare.loc[row_index, 'MLA Precission'] = precision_score(y_test, predicted)\n",
        "    MLA_compare.loc[row_index, 'MLA Recall'] = recall_score(y_test, predicted)\n",
        "    MLA_compare.loc[row_index, 'MLA AUC'] = auc(fp, tp)\n",
        "    row_index+=1\n",
        "  \n",
        "  MLA_compare.sort_values(by = ['MLA AUC'], ascending = False, inplace = True)    \n",
        "  return MLA_compare\n",
        "\n",
        "\n",
        "def roc_curve_MLA(MLA,X_train, X_test, y_train, y_test):\n",
        "  index = 1\n",
        "  for alg in MLA:\n",
        "\n",
        "\n",
        "      predicted = alg.fit(X_train, y_train).predict(X_test)\n",
        "      fp, tp, th = roc_curve(y_test, predicted)\n",
        "      roc_auc_mla = auc(fp, tp)\n",
        "      MLA_name = alg.__class__.__name__\n",
        "      plt.plot(fp, tp, lw=2, alpha=0.3, label='ROC %s (AUC = %0.2f)'  % (MLA_name, roc_auc_mla))\n",
        "\n",
        "      index+=1\n",
        "\n",
        "  plt.title('ROC Curve comparison')\n",
        "  plt.legend(bbox_to_anchor=(1.05, 1), loc=2, borderaxespad=0.)\n",
        "  plt.plot([0,1],[0,1],'r--')\n",
        "  plt.xlim([0,1])\n",
        "  plt.ylim([0,1])\n",
        "  plt.ylabel('True Positive Rate')\n",
        "  plt.xlabel('False Positive Rate')    \n",
        "  plt.show()"
      ],
      "execution_count": null,
      "outputs": []
    },
    {
      "cell_type": "code",
      "metadata": {
        "id": "F_AAgSe2ZcPo",
        "colab": {
          "base_uri": "https://localhost:8080/",
          "height": 295
        },
        "outputId": "93816f38-9cd4-4038-d3b6-860bbddee784"
      },
      "source": [
        "roc_curve_MLA(MLA,X_train, X_test, y_train, y_test)"
      ],
      "execution_count": null,
      "outputs": [
        {
          "output_type": "display_data",
          "data": {
            "text/plain": [
              "<Figure size 432x288 with 1 Axes>"
            ],
            "image/png": "[encoded data removed]"
          },
          "metadata": {
            "needs_background": "light"
          }
        }
      ]
    },
    {
      "cell_type": "code",
      "metadata": {
        "id": "m57tOVr-ZgcE",
        "colab": {
          "base_uri": "https://localhost:8080/",
          "height": 81
        },
        "outputId": "bdb77f7e-ad4c-4eac-b432-2b05f20467e9"
      },
      "source": [
        "df_ml = compare_algorithms2df(MLA,X_train, X_test, y_train, y_test)\n",
        "df_ml"
      ],
      "execution_count": null,
      "outputs": [
        {
          "output_type": "execute_result",
          "data": {
            "text/plain": [
              "             MLA Name  MLA Train Accuracy  MLA Test Accuracy  MLA Precission  \\\n",
              "0  LogisticRegression              0.8026             0.7948        0.741935   \n",
              "\n",
              "   MLA Recall   MLA AUC  \n",
              "0        0.69  0.773571  "
            ],
            "text/html": [
              "\n",
              "  <div id=\"df-9c382d42-7b0e-4d7a-b95f-71a11ac9492b\">\n",
              "    <div class=\"colab-df-container\">\n",
              "      <div>\n",
              "<style scoped>\n",
              "    .dataframe tbody tr th:only-of-type {\n",
              "        vertical-align: middle;\n",
              "    }\n",
              "\n",
              "    .dataframe tbody tr th {\n",
              "        vertical-align: top;\n",
              "    }\n",
              "\n",
              "    .dataframe thead th {\n",
              "        text-align: right;\n",
              "    }\n",
              "</style>\n",
              "<table border=\"1\" class=\"dataframe\">\n",
              "  <thead>\n",
              "    <tr style=\"text-align: right;\">\n",
              "      <th></th>\n",
              "      <th>MLA Name</th>\n",
              "      <th>MLA Train Accuracy</th>\n",
              "      <th>MLA Test Accuracy</th>\n",
              "      <th>MLA Precission</th>\n",
              "      <th>MLA Recall</th>\n",
              "      <th>MLA AUC</th>\n",
              "    </tr>\n",
              "  </thead>\n",
              "  <tbody>\n",
              "    <tr>\n",
              "      <th>0</th>\n",
              "      <td>LogisticRegression</td>\n",
              "      <td>0.8026</td>\n",
              "      <td>0.7948</td>\n",
              "      <td>0.741935</td>\n",
              "      <td>0.69</td>\n",
              "      <td>0.773571</td>\n",
              "    </tr>\n",
              "  </tbody>\n",
              "</table>\n",
              "</div>\n",
              "      <button class=\"colab-df-convert\" onclick=\"convertToInteractive('df-9c382d42-7b0e-4d7a-b95f-71a11ac9492b')\"\n",
              "              title=\"Convert this dataframe to an interactive table.\"\n",
              "              style=\"display:none;\">\n",
              "        \n",
              "  <svg xmlns=\"http://www.w3.org/2000/svg\" height=\"24px\"viewBox=\"0 0 24 24\"\n",
              "       width=\"24px\">\n",
              "    <path d=\"M0 0h24v24H0V0z\" fill=\"none\"/>\n",
              "    <path d=\"M18.56 5.44l.94 2.06.94-2.06 2.06-.94-2.06-.94-.94-2.06-.94 2.06-2.06.94zm-11 1L8.5 8.5l.94-2.06 2.06-.94-2.06-.94L8.5 2.5l-.94 2.06-2.06.94zm10 10l.94 2.06.94-2.06 2.06-.94-2.06-.94-.94-2.06-.94 2.06-2.06.94z\"/><path d=\"M17.41 7.96l-1.37-1.37c-.4-.4-.92-.59-1.43-.59-.52 0-1.04.2-1.43.59L10.3 9.45l-7.72 7.72c-.78.78-.78 2.05 0 2.83L4 21.41c.39.39.9.59 1.41.59.51 0 1.02-.2 1.41-.59l7.78-7.78 2.81-2.81c.8-.78.8-2.07 0-2.86zM5.41 20L4 18.59l7.72-7.72 1.47 1.35L5.41 20z\"/>\n",
              "  </svg>\n",
              "      </button>\n",
              "      \n",
              "  <style>\n",
              "    .colab-df-container {\n",
              "      display:flex;\n",
              "      flex-wrap:wrap;\n",
              "      gap: 12px;\n",
              "    }\n",
              "\n",
              "    .colab-df-convert {\n",
              "      background-color: #E8F0FE;\n",
              "      border: none;\n",
              "      border-radius: 50%;\n",
              "      cursor: pointer;\n",
              "      display: none;\n",
              "      fill: #1967D2;\n",
              "      height: 32px;\n",
              "      padding: 0 0 0 0;\n",
              "      width: 32px;\n",
              "    }\n",
              "\n",
              "    .colab-df-convert:hover {\n",
              "      background-color: #E2EBFA;\n",
              "      box-shadow: 0px 1px 2px rgba(60, 64, 67, 0.3), 0px 1px 3px 1px rgba(60, 64, 67, 0.15);\n",
              "      fill: #174EA6;\n",
              "    }\n",
              "\n",
              "    [theme=dark] .colab-df-convert {\n",
              "      background-color: #3B4455;\n",
              "      fill: #D2E3FC;\n",
              "    }\n",
              "\n",
              "    [theme=dark] .colab-df-convert:hover {\n",
              "      background-color: #434B5C;\n",
              "      box-shadow: 0px 1px 3px 1px rgba(0, 0, 0, 0.15);\n",
              "      filter: drop-shadow(0px 1px 2px rgba(0, 0, 0, 0.3));\n",
              "      fill: #FFFFFF;\n",
              "    }\n",
              "  </style>\n",
              "\n",
              "      <script>\n",
              "        const buttonEl =\n",
              "          document.querySelector('#df-9c382d42-7b0e-4d7a-b95f-71a11ac9492b button.colab-df-convert');\n",
              "        buttonEl.style.display =\n",
              "          google.colab.kernel.accessAllowed ? 'block' : 'none';\n",
              "\n",
              "        async function convertToInteractive(key) {\n",
              "          const element = document.querySelector('#df-9c382d42-7b0e-4d7a-b95f-71a11ac9492b');\n",
              "          const dataTable =\n",
              "            await google.colab.kernel.invokeFunction('convertToInteractive',\n",
              "                                                     [key], {});\n",
              "          if (!dataTable) return;\n",
              "\n",
              "          const docLinkHtml = 'Like what you see? Visit the ' +\n",
              "            '<a target=\"_blank\" href=https://colab.research.google.com/notebooks/data_table.ipynb>data table notebook</a>'\n",
              "            + ' to learn more about interactive tables.';\n",
              "          element.innerHTML = '';\n",
              "          dataTable['output_type'] = 'display_data';\n",
              "          await google.colab.output.renderOutput(dataTable, element);\n",
              "          const docLink = document.createElement('div');\n",
              "          docLink.innerHTML = docLinkHtml;\n",
              "          element.appendChild(docLink);\n",
              "        }\n",
              "      </script>\n",
              "    </div>\n",
              "  </div>\n",
              "  "
            ]
          },
          "metadata": {},
          "execution_count": 250
        }
      ]
    }
  ]
}